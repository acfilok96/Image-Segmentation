{
  "metadata": {
    "accelerator": "GPU",
    "colab": {
      "provenance": []
    },
    "gpuClass": "standard",
    "kernelspec": {
      "name": "python3",
      "display_name": "Python 3",
      "language": "python"
    },
    "language_info": {
      "name": "python",
      "version": "3.10.10",
      "mimetype": "text/x-python",
      "codemirror_mode": {
        "name": "ipython",
        "version": 3
      },
      "pygments_lexer": "ipython3",
      "nbconvert_exporter": "python",
      "file_extension": ".py"
    }
  },
  "nbformat_minor": 5,
  "nbformat": 4,
  "cells": [
    {
      "cell_type": "code",
      "source": [
        "from google.colab import drive\n",
        "drive.mount('/content/drive')"
      ],
      "metadata": {
        "id": "LTYlk-tvJOCk",
        "colab": {
          "base_uri": "https://localhost:8080/"
        },
        "outputId": "de6477e3-3b7d-4cb4-b595-6168d0fedf7a",
        "execution": {
          "iopub.status.busy": "2023-05-03T18:37:16.077438Z",
          "iopub.execute_input": "2023-05-03T18:37:16.077779Z",
          "iopub.status.idle": "2023-05-03T18:37:16.081451Z",
          "shell.execute_reply.started": "2023-05-03T18:37:16.077752Z",
          "shell.execute_reply": "2023-05-03T18:37:16.080520Z"
        },
        "trusted": true
      },
      "execution_count": 24,
      "outputs": [
        {
          "output_type": "stream",
          "name": "stdout",
          "text": [
            "Drive already mounted at /content/drive; to attempt to forcibly remount, call drive.mount(\"/content/drive\", force_remount=True).\n"
          ]
        }
      ],
      "id": "LTYlk-tvJOCk"
    },
    {
      "cell_type": "code",
      "source": [
        "import os\n",
        "print(os.listdir())"
      ],
      "metadata": {
        "id": "e30015bb",
        "colab": {
          "base_uri": "https://localhost:8080/"
        },
        "outputId": "8abd212e-bd6f-4545-cb78-a9a0cc71be3a",
        "execution": {
          "iopub.status.busy": "2023-05-03T18:37:16.087739Z",
          "iopub.execute_input": "2023-05-03T18:37:16.088479Z",
          "iopub.status.idle": "2023-05-03T18:37:16.096206Z",
          "shell.execute_reply.started": "2023-05-03T18:37:16.088446Z",
          "shell.execute_reply": "2023-05-03T18:37:16.095261Z"
        },
        "trusted": true
      },
      "execution_count": 25,
      "outputs": [
        {
          "output_type": "stream",
          "name": "stdout",
          "text": [
            "['.config', 'drive', 'sample_data']\n"
          ]
        }
      ],
      "id": "e30015bb"
    },
    {
      "cell_type": "code",
      "source": [
        "import tensorflow as tf\n",
        "import os,sys\n",
        "import numpy as np\n",
        "import random\n",
        "\n",
        "random.seed(1)\n",
        "np.random.seed(1)\n",
        "tf.random.set_seed(2)\n",
        "\n",
        "import numpy as np\n",
        "np.random.seed(10)\n",
        "\n",
        "import os, keras, numpy,tensorflow\n",
        "import matplotlib.pyplot as plt\n",
        "from numpy import *\n",
        "from numpy.random import *\n",
        "from tensorflow.keras.optimizers import Adam\n",
        "from keras.models import Model\n",
        "from keras.layers import *\n",
        "from tensorflow.keras import initializers\n",
        "\n",
        "from keras.layers import *\n",
        "from keras.layers import Dense\n",
        "from keras.layers.core import Activation\n",
        "from keras.initializers import RandomNormal\n",
        "from keras.layers.convolutional import UpSampling2D\n",
        "from keras.layers.core import Flatten\n",
        "from keras.layers import Input\n",
        "from keras.layers.convolutional import Conv2D, Conv2DTranspose\n",
        "from keras.models import Model\n",
        "from keras.layers import add\n",
        "from keras.layers import Conv2D, Conv2DTranspose, BatchNormalization"
      ],
      "metadata": {
        "id": "832bae2f",
        "execution": {
          "iopub.status.busy": "2023-05-03T18:37:16.098545Z",
          "iopub.execute_input": "2023-05-03T18:37:16.099282Z",
          "iopub.status.idle": "2023-05-03T18:37:16.112104Z",
          "shell.execute_reply.started": "2023-05-03T18:37:16.099248Z",
          "shell.execute_reply": "2023-05-03T18:37:16.111153Z"
        },
        "trusted": true
      },
      "execution_count": 26,
      "outputs": [],
      "id": "832bae2f"
    },
    {
      "cell_type": "code",
      "source": [
        "import tensorflow as tf\n",
        "device_name = tf.test.gpu_device_name()\n",
        "with tf.device(device_name):\n",
        "    print(device_name.split(\":\")[1],\" running . . . \")"
      ],
      "metadata": {
        "id": "a8745138",
        "colab": {
          "base_uri": "https://localhost:8080/"
        },
        "outputId": "bcac0b75-48a1-4cd3-fbde-39a66003da03",
        "execution": {
          "iopub.status.busy": "2023-05-03T18:37:16.113869Z",
          "iopub.execute_input": "2023-05-03T18:37:16.114271Z",
          "iopub.status.idle": "2023-05-03T18:37:16.129364Z",
          "shell.execute_reply.started": "2023-05-03T18:37:16.114241Z",
          "shell.execute_reply": "2023-05-03T18:37:16.128426Z"
        },
        "trusted": true
      },
      "execution_count": 27,
      "outputs": [
        {
          "output_type": "stream",
          "name": "stdout",
          "text": [
            "GPU  running . . . \n"
          ]
        }
      ],
      "id": "a8745138"
    },
    {
      "cell_type": "code",
      "source": [
        "# strategy = tf.distribute.MirroredStrategy()\n",
        "# print(\"Number of Accelerator: \",strategy.num_replicas_in_sync)\n",
        "\n",
        "# # batch_size = 256\n",
        "# # epoch = 1\n",
        "\n",
        "# # BATCH_SIZE =  batch_size*strategy.num_replicas_in_sync\n",
        "# # print(\"Global Batch Size: \",BATCH_SIZE)\n",
        "\n",
        "# with strategy.scope():\n",
        "#   # model = create_model()\n",
        "#   print(\"Ready To Go !\")"
      ],
      "metadata": {
        "execution": {
          "iopub.status.busy": "2023-05-03T18:37:16.133217Z",
          "iopub.execute_input": "2023-05-03T18:37:16.133494Z",
          "iopub.status.idle": "2023-05-03T18:37:16.150131Z",
          "shell.execute_reply.started": "2023-05-03T18:37:16.133469Z",
          "shell.execute_reply": "2023-05-03T18:37:16.149134Z"
        },
        "trusted": true,
        "id": "CD2uTilm5_7x"
      },
      "execution_count": 28,
      "outputs": [],
      "id": "CD2uTilm5_7x"
    },
    {
      "cell_type": "code",
      "source": [
        "def Discriminator(input_shape_in = (128, 128, 3), target_shape_in = (128, 128, 3)):\n",
        "    \n",
        "    # input\n",
        "    input_shape = Input(shape = input_shape_in)\n",
        "    input_target = Input(shape = target_shape_in)\n",
        "    \n",
        "    concate_one = Concatenate()([input_shape, input_target])\n",
        "    \n",
        "    # C64\n",
        "    model = Conv2D(64, (4,4), strides=(2,2), padding='same', kernel_initializer=RandomNormal(stddev=0.02))(concate_one)\n",
        "    model = LeakyReLU(alpha=0.2)(model)\n",
        "    \n",
        "    # C128\n",
        "    model = Conv2D(128, (4,4), strides=(2,2), padding='same', kernel_initializer=RandomNormal(stddev=0.02))(model)\n",
        "    model = BatchNormalization()(model)\n",
        "    model = LeakyReLU(alpha=0.2)(model)\n",
        "    \n",
        "    # C256\n",
        "    model = Conv2D(256, (4,4), strides=(2,2), padding='same', kernel_initializer=RandomNormal(stddev=0.02))(model)\n",
        "    model = BatchNormalization()(model)\n",
        "    model = LeakyReLU(alpha=0.2)(model)\n",
        "    \n",
        "    # C512\n",
        "    model = Conv2D(512, (4,4), strides=(2,2), padding='same', kernel_initializer=RandomNormal(stddev=0.02))(model)\n",
        "    model = BatchNormalization()(model)\n",
        "    model = LeakyReLU(alpha=0.2)(model)\n",
        "    \n",
        "    # second last output layer\n",
        "    model = Conv2D(512, (4,4), strides=(2,2), padding='same', kernel_initializer=RandomNormal(stddev=0.02))(model)\n",
        "    model = BatchNormalization()(model)\n",
        "    model = LeakyReLU(alpha=0.2)(model)\n",
        "    \n",
        "    # patch output\n",
        "    model = Conv2D(1, (4,4), padding='same', kernel_initializer=RandomNormal(stddev=0.02))(model)\n",
        "    model = Activation('tanh')(model)\n",
        "    \n",
        "    # define model\n",
        "    discriminator_model = Model(inputs = [input_shape, input_target], outputs = model)\n",
        "    \n",
        "    # compile model\n",
        "    opt = Adam(learning_rate=0.0004, beta_1=0.5)\n",
        "    discriminator_model.compile(loss='mse', optimizer=opt, loss_weights=[0.5])\n",
        "        \n",
        "    return discriminator_model"
      ],
      "metadata": {
        "id": "bde13e23",
        "execution": {
          "iopub.status.busy": "2023-05-03T18:37:16.151637Z",
          "iopub.execute_input": "2023-05-03T18:37:16.152225Z",
          "iopub.status.idle": "2023-05-03T18:37:16.162524Z",
          "shell.execute_reply.started": "2023-05-03T18:37:16.152195Z",
          "shell.execute_reply": "2023-05-03T18:37:16.161761Z"
        },
        "trusted": true
      },
      "execution_count": 29,
      "outputs": [],
      "id": "bde13e23"
    },
    {
      "cell_type": "code",
      "source": [
        "a = Discriminator()\n",
        "print(a.summary())"
      ],
      "metadata": {
        "id": "470acffc",
        "colab": {
          "base_uri": "https://localhost:8080/"
        },
        "outputId": "cf1f361a-a580-4190-f55f-1001e6a6de7f",
        "execution": {
          "iopub.status.busy": "2023-05-03T18:37:16.164044Z",
          "iopub.execute_input": "2023-05-03T18:37:16.164606Z",
          "iopub.status.idle": "2023-05-03T18:37:16.433597Z",
          "shell.execute_reply.started": "2023-05-03T18:37:16.164532Z",
          "shell.execute_reply": "2023-05-03T18:37:16.432737Z"
        },
        "trusted": true
      },
      "execution_count": 30,
      "outputs": [
        {
          "output_type": "stream",
          "name": "stdout",
          "text": [
            "Model: \"model_6\"\n",
            "__________________________________________________________________________________________________\n",
            " Layer (type)                   Output Shape         Param #     Connected to                     \n",
            "==================================================================================================\n",
            " input_9 (InputLayer)           [(None, 128, 128, 3  0           []                               \n",
            "                                )]                                                                \n",
            "                                                                                                  \n",
            " input_10 (InputLayer)          [(None, 128, 128, 3  0           []                               \n",
            "                                )]                                                                \n",
            "                                                                                                  \n",
            " concatenate_14 (Concatenate)   (None, 128, 128, 6)  0           ['input_9[0][0]',                \n",
            "                                                                  'input_10[0][0]']               \n",
            "                                                                                                  \n",
            " conv2d_42 (Conv2D)             (None, 64, 64, 64)   6208        ['concatenate_14[0][0]']         \n",
            "                                                                                                  \n",
            " leaky_re_lu_10 (LeakyReLU)     (None, 64, 64, 64)   0           ['conv2d_42[0][0]']              \n",
            "                                                                                                  \n",
            " conv2d_43 (Conv2D)             (None, 32, 32, 128)  131200      ['leaky_re_lu_10[0][0]']         \n",
            "                                                                                                  \n",
            " batch_normalization_30 (BatchN  (None, 32, 32, 128)  512        ['conv2d_43[0][0]']              \n",
            " ormalization)                                                                                    \n",
            "                                                                                                  \n",
            " leaky_re_lu_11 (LeakyReLU)     (None, 32, 32, 128)  0           ['batch_normalization_30[0][0]'] \n",
            "                                                                                                  \n",
            " conv2d_44 (Conv2D)             (None, 16, 16, 256)  524544      ['leaky_re_lu_11[0][0]']         \n",
            "                                                                                                  \n",
            " batch_normalization_31 (BatchN  (None, 16, 16, 256)  1024       ['conv2d_44[0][0]']              \n",
            " ormalization)                                                                                    \n",
            "                                                                                                  \n",
            " leaky_re_lu_12 (LeakyReLU)     (None, 16, 16, 256)  0           ['batch_normalization_31[0][0]'] \n",
            "                                                                                                  \n",
            " conv2d_45 (Conv2D)             (None, 8, 8, 512)    2097664     ['leaky_re_lu_12[0][0]']         \n",
            "                                                                                                  \n",
            " batch_normalization_32 (BatchN  (None, 8, 8, 512)   2048        ['conv2d_45[0][0]']              \n",
            " ormalization)                                                                                    \n",
            "                                                                                                  \n",
            " leaky_re_lu_13 (LeakyReLU)     (None, 8, 8, 512)    0           ['batch_normalization_32[0][0]'] \n",
            "                                                                                                  \n",
            " conv2d_46 (Conv2D)             (None, 4, 4, 512)    4194816     ['leaky_re_lu_13[0][0]']         \n",
            "                                                                                                  \n",
            " batch_normalization_33 (BatchN  (None, 4, 4, 512)   2048        ['conv2d_46[0][0]']              \n",
            " ormalization)                                                                                    \n",
            "                                                                                                  \n",
            " leaky_re_lu_14 (LeakyReLU)     (None, 4, 4, 512)    0           ['batch_normalization_33[0][0]'] \n",
            "                                                                                                  \n",
            " conv2d_47 (Conv2D)             (None, 4, 4, 1)      8193        ['leaky_re_lu_14[0][0]']         \n",
            "                                                                                                  \n",
            " activation_30 (Activation)     (None, 4, 4, 1)      0           ['conv2d_47[0][0]']              \n",
            "                                                                                                  \n",
            "==================================================================================================\n",
            "Total params: 6,968,257\n",
            "Trainable params: 6,965,441\n",
            "Non-trainable params: 2,816\n",
            "__________________________________________________________________________________________________\n",
            "None\n"
          ]
        }
      ],
      "id": "470acffc"
    },
    {
      "cell_type": "code",
      "source": [
        "# plot the discriminator model\n",
        "# tf.keras.utils.plot_model(a,show_shapes=True,\n",
        "#                           show_dtype=True,\n",
        "#                           show_layer_names=True,\n",
        "#                           show_layer_activations=True)"
      ],
      "metadata": {
        "id": "fcd2769a",
        "execution": {
          "iopub.status.busy": "2023-05-03T18:37:16.434658Z",
          "iopub.execute_input": "2023-05-03T18:37:16.434967Z",
          "iopub.status.idle": "2023-05-03T18:37:16.927908Z",
          "shell.execute_reply.started": "2023-05-03T18:37:16.434937Z",
          "shell.execute_reply": "2023-05-03T18:37:16.927063Z"
        },
        "trusted": true
      },
      "execution_count": 31,
      "outputs": [],
      "id": "fcd2769a"
    },
    {
      "cell_type": "code",
      "source": [
        "# define an encoder block\n",
        "def define_encoder_block(layer_in, n_filters, batchnorm=True):\n",
        "    g = Conv2D(n_filters, (4,4), strides=(2,2), padding='same', kernel_initializer=RandomNormal(stddev=0.02))(layer_in)\n",
        "    if batchnorm:\n",
        "        g = BatchNormalization()(g, training=True)\n",
        "    g = Activation('relu')(g)\n",
        "    \n",
        "    return g\n"
      ],
      "metadata": {
        "id": "edef3b46",
        "execution": {
          "iopub.status.busy": "2023-05-03T18:37:16.930808Z",
          "iopub.execute_input": "2023-05-03T18:37:16.931130Z",
          "iopub.status.idle": "2023-05-03T18:37:16.937024Z",
          "shell.execute_reply.started": "2023-05-03T18:37:16.931103Z",
          "shell.execute_reply": "2023-05-03T18:37:16.936062Z"
        },
        "trusted": true
      },
      "execution_count": 32,
      "outputs": [],
      "id": "edef3b46"
    },
    {
      "cell_type": "code",
      "source": [
        "# define a decoder block\n",
        "def decoder_block(layer_in, skip_in, n_filters, dropout=True):\n",
        "    # g = Conv2DTranspose(n_filters, (4,4), strides=(2,2), padding='same', kernel_initializer=RandomNormal(stddev=0.02))(layer_in)\n",
        "    g = UpSampling2D(size=(2,2))(layer_in)\n",
        "    g = Conv2D(n_filters, (1,1), padding='same', kernel_initializer=RandomNormal(stddev=0.02))(g)\n",
        "    g = BatchNormalization()(g, training=True)\n",
        "    if dropout:\n",
        "        g = Dropout(0.3)(g, training=True)\n",
        "    g = Concatenate()([g, skip_in])\n",
        "    g = Activation('relu')(g)\n",
        "    \n",
        "    return g"
      ],
      "metadata": {
        "id": "494fafc5",
        "execution": {
          "iopub.status.busy": "2023-05-03T18:37:16.938810Z",
          "iopub.execute_input": "2023-05-03T18:37:16.939549Z",
          "iopub.status.idle": "2023-05-03T18:37:16.951550Z",
          "shell.execute_reply.started": "2023-05-03T18:37:16.939516Z",
          "shell.execute_reply": "2023-05-03T18:37:16.950837Z"
        },
        "trusted": true
      },
      "execution_count": 33,
      "outputs": [],
      "id": "494fafc5"
    },
    {
      "cell_type": "code",
      "source": [
        "# define the standalone generator model\n",
        "def Generator(image_shape=(128,128,3)):\n",
        "   \n",
        "    # image input\n",
        "    in_image = Input(shape=image_shape)\n",
        "    \n",
        "    # encoder model\n",
        "    e1 = define_encoder_block(in_image, 64, batchnorm=False)\n",
        "    e2 = define_encoder_block(e1, 128)\n",
        "    e3 = define_encoder_block(e2, 256)\n",
        "    e4 = define_encoder_block(e3, 512)\n",
        "    e5 = define_encoder_block(e4, 512)\n",
        "    e6 = define_encoder_block(e5, 512)\n",
        "    \n",
        "    # bottleneck, no batch norm and relu\n",
        "    b = Conv2D(512, (4,4), strides=(2,2), padding='same', kernel_initializer=RandomNormal(stddev=0.02))(e6)\n",
        "    b = Activation('relu')(b)\n",
        "    \n",
        "    # decoder model\n",
        "    d2 = decoder_block(b, e6, 512)\n",
        "    d3 = decoder_block(d2, e5, 512)\n",
        "    d4 = decoder_block(d3, e4, 512, dropout=False)\n",
        "    d5 = decoder_block(d4, e3, 256, dropout=False)\n",
        "    d6 = decoder_block(d5, e2, 128, dropout=False)\n",
        "    d7 = decoder_block(d6, e1, 64, dropout=False)\n",
        "    \n",
        "    # output\n",
        "    # g = Conv2DTranspose(3, (4,4), strides=(2,2), padding='same', kernel_initializer=RandomNormal(stddev=0.02))(d7)\n",
        "    g = UpSampling2D(size=(2,2))(d7)\n",
        "    g = Conv2D(64, (1,1), padding='same', kernel_initializer=RandomNormal(stddev=0.02))(g)\n",
        "\n",
        "    g = Conv2D(3, (3,3), padding='same', kernel_initializer=RandomNormal(stddev=0.02))(g)\n",
        "    out_image = Activation('tanh')(g)\n",
        "    \n",
        "    # model\n",
        "    model = Model(in_image, out_image)\n",
        "    \n",
        "    return model"
      ],
      "metadata": {
        "id": "9e85eb7b",
        "execution": {
          "iopub.status.busy": "2023-05-03T18:37:16.952970Z",
          "iopub.execute_input": "2023-05-03T18:37:16.953780Z",
          "iopub.status.idle": "2023-05-03T18:37:16.963128Z",
          "shell.execute_reply.started": "2023-05-03T18:37:16.953746Z",
          "shell.execute_reply": "2023-05-03T18:37:16.962148Z"
        },
        "trusted": true
      },
      "execution_count": 34,
      "outputs": [],
      "id": "9e85eb7b"
    },
    {
      "cell_type": "code",
      "source": [
        "b = Generator()\n",
        "print(b.summary())"
      ],
      "metadata": {
        "id": "f0c76602",
        "colab": {
          "base_uri": "https://localhost:8080/"
        },
        "outputId": "102e92d7-191a-47e0-9807-52945ef524eb",
        "execution": {
          "iopub.status.busy": "2023-05-03T18:37:16.966088Z",
          "iopub.execute_input": "2023-05-03T18:37:16.966362Z",
          "iopub.status.idle": "2023-05-03T18:37:17.503375Z",
          "shell.execute_reply.started": "2023-05-03T18:37:16.966339Z",
          "shell.execute_reply": "2023-05-03T18:37:17.502570Z"
        },
        "trusted": true
      },
      "execution_count": 35,
      "outputs": [
        {
          "output_type": "stream",
          "name": "stdout",
          "text": [
            "Model: \"model_7\"\n",
            "__________________________________________________________________________________________________\n",
            " Layer (type)                   Output Shape         Param #     Connected to                     \n",
            "==================================================================================================\n",
            " input_11 (InputLayer)          [(None, 128, 128, 3  0           []                               \n",
            "                                )]                                                                \n",
            "                                                                                                  \n",
            " conv2d_48 (Conv2D)             (None, 64, 64, 64)   3136        ['input_11[0][0]']               \n",
            "                                                                                                  \n",
            " activation_31 (Activation)     (None, 64, 64, 64)   0           ['conv2d_48[0][0]']              \n",
            "                                                                                                  \n",
            " conv2d_49 (Conv2D)             (None, 32, 32, 128)  131200      ['activation_31[0][0]']          \n",
            "                                                                                                  \n",
            " batch_normalization_34 (BatchN  (None, 32, 32, 128)  512        ['conv2d_49[0][0]']              \n",
            " ormalization)                                                                                    \n",
            "                                                                                                  \n",
            " activation_32 (Activation)     (None, 32, 32, 128)  0           ['batch_normalization_34[0][0]'] \n",
            "                                                                                                  \n",
            " conv2d_50 (Conv2D)             (None, 16, 16, 256)  524544      ['activation_32[0][0]']          \n",
            "                                                                                                  \n",
            " batch_normalization_35 (BatchN  (None, 16, 16, 256)  1024       ['conv2d_50[0][0]']              \n",
            " ormalization)                                                                                    \n",
            "                                                                                                  \n",
            " activation_33 (Activation)     (None, 16, 16, 256)  0           ['batch_normalization_35[0][0]'] \n",
            "                                                                                                  \n",
            " conv2d_51 (Conv2D)             (None, 8, 8, 512)    2097664     ['activation_33[0][0]']          \n",
            "                                                                                                  \n",
            " batch_normalization_36 (BatchN  (None, 8, 8, 512)   2048        ['conv2d_51[0][0]']              \n",
            " ormalization)                                                                                    \n",
            "                                                                                                  \n",
            " activation_34 (Activation)     (None, 8, 8, 512)    0           ['batch_normalization_36[0][0]'] \n",
            "                                                                                                  \n",
            " conv2d_52 (Conv2D)             (None, 4, 4, 512)    4194816     ['activation_34[0][0]']          \n",
            "                                                                                                  \n",
            " batch_normalization_37 (BatchN  (None, 4, 4, 512)   2048        ['conv2d_52[0][0]']              \n",
            " ormalization)                                                                                    \n",
            "                                                                                                  \n",
            " activation_35 (Activation)     (None, 4, 4, 512)    0           ['batch_normalization_37[0][0]'] \n",
            "                                                                                                  \n",
            " conv2d_53 (Conv2D)             (None, 2, 2, 512)    4194816     ['activation_35[0][0]']          \n",
            "                                                                                                  \n",
            " batch_normalization_38 (BatchN  (None, 2, 2, 512)   2048        ['conv2d_53[0][0]']              \n",
            " ormalization)                                                                                    \n",
            "                                                                                                  \n",
            " activation_36 (Activation)     (None, 2, 2, 512)    0           ['batch_normalization_38[0][0]'] \n",
            "                                                                                                  \n",
            " conv2d_54 (Conv2D)             (None, 1, 1, 512)    4194816     ['activation_36[0][0]']          \n",
            "                                                                                                  \n",
            " activation_37 (Activation)     (None, 1, 1, 512)    0           ['conv2d_54[0][0]']              \n",
            "                                                                                                  \n",
            " up_sampling2d_14 (UpSampling2D  (None, 2, 2, 512)   0           ['activation_37[0][0]']          \n",
            " )                                                                                                \n",
            "                                                                                                  \n",
            " conv2d_55 (Conv2D)             (None, 2, 2, 512)    262656      ['up_sampling2d_14[0][0]']       \n",
            "                                                                                                  \n",
            " batch_normalization_39 (BatchN  (None, 2, 2, 512)   2048        ['conv2d_55[0][0]']              \n",
            " ormalization)                                                                                    \n",
            "                                                                                                  \n",
            " dropout_4 (Dropout)            (None, 2, 2, 512)    0           ['batch_normalization_39[0][0]'] \n",
            "                                                                                                  \n",
            " concatenate_15 (Concatenate)   (None, 2, 2, 1024)   0           ['dropout_4[0][0]',              \n",
            "                                                                  'activation_36[0][0]']          \n",
            "                                                                                                  \n",
            " activation_38 (Activation)     (None, 2, 2, 1024)   0           ['concatenate_15[0][0]']         \n",
            "                                                                                                  \n",
            " up_sampling2d_15 (UpSampling2D  (None, 4, 4, 1024)  0           ['activation_38[0][0]']          \n",
            " )                                                                                                \n",
            "                                                                                                  \n",
            " conv2d_56 (Conv2D)             (None, 4, 4, 512)    524800      ['up_sampling2d_15[0][0]']       \n",
            "                                                                                                  \n",
            " batch_normalization_40 (BatchN  (None, 4, 4, 512)   2048        ['conv2d_56[0][0]']              \n",
            " ormalization)                                                                                    \n",
            "                                                                                                  \n",
            " dropout_5 (Dropout)            (None, 4, 4, 512)    0           ['batch_normalization_40[0][0]'] \n",
            "                                                                                                  \n",
            " concatenate_16 (Concatenate)   (None, 4, 4, 1024)   0           ['dropout_5[0][0]',              \n",
            "                                                                  'activation_35[0][0]']          \n",
            "                                                                                                  \n",
            " activation_39 (Activation)     (None, 4, 4, 1024)   0           ['concatenate_16[0][0]']         \n",
            "                                                                                                  \n",
            " up_sampling2d_16 (UpSampling2D  (None, 8, 8, 1024)  0           ['activation_39[0][0]']          \n",
            " )                                                                                                \n",
            "                                                                                                  \n",
            " conv2d_57 (Conv2D)             (None, 8, 8, 512)    524800      ['up_sampling2d_16[0][0]']       \n",
            "                                                                                                  \n",
            " batch_normalization_41 (BatchN  (None, 8, 8, 512)   2048        ['conv2d_57[0][0]']              \n",
            " ormalization)                                                                                    \n",
            "                                                                                                  \n",
            " concatenate_17 (Concatenate)   (None, 8, 8, 1024)   0           ['batch_normalization_41[0][0]', \n",
            "                                                                  'activation_34[0][0]']          \n",
            "                                                                                                  \n",
            " activation_40 (Activation)     (None, 8, 8, 1024)   0           ['concatenate_17[0][0]']         \n",
            "                                                                                                  \n",
            " up_sampling2d_17 (UpSampling2D  (None, 16, 16, 1024  0          ['activation_40[0][0]']          \n",
            " )                              )                                                                 \n",
            "                                                                                                  \n",
            " conv2d_58 (Conv2D)             (None, 16, 16, 256)  262400      ['up_sampling2d_17[0][0]']       \n",
            "                                                                                                  \n",
            " batch_normalization_42 (BatchN  (None, 16, 16, 256)  1024       ['conv2d_58[0][0]']              \n",
            " ormalization)                                                                                    \n",
            "                                                                                                  \n",
            " concatenate_18 (Concatenate)   (None, 16, 16, 512)  0           ['batch_normalization_42[0][0]', \n",
            "                                                                  'activation_33[0][0]']          \n",
            "                                                                                                  \n",
            " activation_41 (Activation)     (None, 16, 16, 512)  0           ['concatenate_18[0][0]']         \n",
            "                                                                                                  \n",
            " up_sampling2d_18 (UpSampling2D  (None, 32, 32, 512)  0          ['activation_41[0][0]']          \n",
            " )                                                                                                \n",
            "                                                                                                  \n",
            " conv2d_59 (Conv2D)             (None, 32, 32, 128)  65664       ['up_sampling2d_18[0][0]']       \n",
            "                                                                                                  \n",
            " batch_normalization_43 (BatchN  (None, 32, 32, 128)  512        ['conv2d_59[0][0]']              \n",
            " ormalization)                                                                                    \n",
            "                                                                                                  \n",
            " concatenate_19 (Concatenate)   (None, 32, 32, 256)  0           ['batch_normalization_43[0][0]', \n",
            "                                                                  'activation_32[0][0]']          \n",
            "                                                                                                  \n",
            " activation_42 (Activation)     (None, 32, 32, 256)  0           ['concatenate_19[0][0]']         \n",
            "                                                                                                  \n",
            " up_sampling2d_19 (UpSampling2D  (None, 64, 64, 256)  0          ['activation_42[0][0]']          \n",
            " )                                                                                                \n",
            "                                                                                                  \n",
            " conv2d_60 (Conv2D)             (None, 64, 64, 64)   16448       ['up_sampling2d_19[0][0]']       \n",
            "                                                                                                  \n",
            " batch_normalization_44 (BatchN  (None, 64, 64, 64)  256         ['conv2d_60[0][0]']              \n",
            " ormalization)                                                                                    \n",
            "                                                                                                  \n",
            " concatenate_20 (Concatenate)   (None, 64, 64, 128)  0           ['batch_normalization_44[0][0]', \n",
            "                                                                  'activation_31[0][0]']          \n",
            "                                                                                                  \n",
            " activation_43 (Activation)     (None, 64, 64, 128)  0           ['concatenate_20[0][0]']         \n",
            "                                                                                                  \n",
            " up_sampling2d_20 (UpSampling2D  (None, 128, 128, 12  0          ['activation_43[0][0]']          \n",
            " )                              8)                                                                \n",
            "                                                                                                  \n",
            " conv2d_61 (Conv2D)             (None, 128, 128, 64  8256        ['up_sampling2d_20[0][0]']       \n",
            "                                )                                                                 \n",
            "                                                                                                  \n",
            " conv2d_62 (Conv2D)             (None, 128, 128, 3)  1731        ['conv2d_61[0][0]']              \n",
            "                                                                                                  \n",
            " activation_44 (Activation)     (None, 128, 128, 3)  0           ['conv2d_62[0][0]']              \n",
            "                                                                                                  \n",
            "==================================================================================================\n",
            "Total params: 17,023,363\n",
            "Trainable params: 17,015,555\n",
            "Non-trainable params: 7,808\n",
            "__________________________________________________________________________________________________\n",
            "None\n"
          ]
        }
      ],
      "id": "f0c76602"
    },
    {
      "cell_type": "code",
      "source": [
        "# plot the discriminator model\n",
        "# tf.keras.utils.plot_model(b,show_shapes=True,\n",
        "#                           show_dtype=True,\n",
        "#                           show_layer_names=True,\n",
        "#                           show_layer_activations=True)"
      ],
      "metadata": {
        "id": "a06c11ce",
        "execution": {
          "iopub.status.busy": "2023-05-03T18:37:17.504466Z",
          "iopub.execute_input": "2023-05-03T18:37:17.504791Z",
          "iopub.status.idle": "2023-05-03T18:37:18.720114Z",
          "shell.execute_reply.started": "2023-05-03T18:37:17.504760Z",
          "shell.execute_reply": "2023-05-03T18:37:18.719054Z"
        },
        "trusted": true
      },
      "execution_count": 36,
      "outputs": [],
      "id": "a06c11ce"
    },
    {
      "cell_type": "code",
      "source": [
        "# define the combined generator and discriminator model, for updating the generator\n",
        "def GAN(g_model, d_model, image_shape = (128, 128, 3)):\n",
        "    \n",
        "    # make weights in the discriminator not trainable\n",
        "    for layer in d_model.layers:\n",
        "        if not isinstance(layer, BatchNormalization):\n",
        "            layer.trainable = False\n",
        "    \n",
        "   \n",
        "    in_src = Input(shape=image_shape)\n",
        "   \n",
        "    gen_out = g_model(in_src)\n",
        "    \n",
        "    dis_out = d_model([in_src, gen_out])\n",
        "    \n",
        "    model = Model(in_src, [dis_out, gen_out])\n",
        "    \n",
        "    # compile model\n",
        "    opt = Adam(learning_rate=0.0004, beta_1=0.5)\n",
        "    model.compile(loss=['mse', 'mae'], optimizer=opt, loss_weights=[1,100])\n",
        "    \n",
        "    return model"
      ],
      "metadata": {
        "id": "5c4c11b8",
        "execution": {
          "iopub.status.busy": "2023-05-03T18:37:18.721249Z",
          "iopub.execute_input": "2023-05-03T18:37:18.721931Z",
          "iopub.status.idle": "2023-05-03T18:37:18.729088Z",
          "shell.execute_reply.started": "2023-05-03T18:37:18.721899Z",
          "shell.execute_reply": "2023-05-03T18:37:18.728058Z"
        },
        "trusted": true
      },
      "execution_count": 37,
      "outputs": [],
      "id": "5c4c11b8"
    },
    {
      "cell_type": "code",
      "source": [
        "c = GAN(b, a)\n",
        "print(c.summary())"
      ],
      "metadata": {
        "id": "ed99a70c",
        "colab": {
          "base_uri": "https://localhost:8080/"
        },
        "outputId": "3427c69f-5074-405d-e8cf-aa6062fd2a38",
        "execution": {
          "iopub.status.busy": "2023-05-03T18:37:18.730638Z",
          "iopub.execute_input": "2023-05-03T18:37:18.731666Z",
          "iopub.status.idle": "2023-05-03T18:37:19.078988Z",
          "shell.execute_reply.started": "2023-05-03T18:37:18.731637Z",
          "shell.execute_reply": "2023-05-03T18:37:19.078060Z"
        },
        "trusted": true
      },
      "execution_count": 38,
      "outputs": [
        {
          "output_type": "stream",
          "name": "stdout",
          "text": [
            "Model: \"model_8\"\n",
            "__________________________________________________________________________________________________\n",
            " Layer (type)                   Output Shape         Param #     Connected to                     \n",
            "==================================================================================================\n",
            " input_12 (InputLayer)          [(None, 128, 128, 3  0           []                               \n",
            "                                )]                                                                \n",
            "                                                                                                  \n",
            " model_7 (Functional)           (None, 128, 128, 3)  17023363    ['input_12[0][0]']               \n",
            "                                                                                                  \n",
            " model_6 (Functional)           (None, 4, 4, 1)      6968257     ['input_12[0][0]',               \n",
            "                                                                  'model_7[0][0]']                \n",
            "                                                                                                  \n",
            "==================================================================================================\n",
            "Total params: 23,991,620\n",
            "Trainable params: 17,018,371\n",
            "Non-trainable params: 6,973,249\n",
            "__________________________________________________________________________________________________\n",
            "None\n"
          ]
        }
      ],
      "id": "ed99a70c"
    },
    {
      "cell_type": "code",
      "source": [
        "# plot the discriminator model\n",
        "# tf.keras.utils.plot_model(c,show_shapes=True,\n",
        "#                           show_dtype=True,\n",
        "#                           show_layer_names=True,\n",
        "#                           show_layer_activations=True)"
      ],
      "metadata": {
        "id": "91897689",
        "execution": {
          "iopub.status.busy": "2023-05-03T18:37:19.080657Z",
          "iopub.execute_input": "2023-05-03T18:37:19.081078Z",
          "iopub.status.idle": "2023-05-03T18:37:19.167361Z",
          "shell.execute_reply.started": "2023-05-03T18:37:19.081025Z",
          "shell.execute_reply": "2023-05-03T18:37:19.166494Z"
        },
        "trusted": true
      },
      "execution_count": 39,
      "outputs": [],
      "id": "91897689"
    },
    {
      "cell_type": "code",
      "source": [
        "def show_prediction(bw_images, rgb_images, predicted_rgb, epoch, n, save=False):\n",
        "    \n",
        "  plt.rcParams[\"figure.figsize\"] = (8,8)\n",
        "  for i in range(n):\n",
        "    plt.suptitle(\"Iteration \"+str(epoch),size=8.5)\n",
        "      \n",
        "    plt.subplot(331)\n",
        "    plt.imshow(bw_images[i], cmap='gray')\n",
        "    plt.title(\"RGB Image\",size=8.5)\n",
        "    plt.axis('off')\n",
        "\n",
        "    plt.subplot(332)\n",
        "    plt.imshow(rgb_images[i])\n",
        "    plt.title(\"Original Segmented Image\",size=8.5)\n",
        "    plt.axis('off')\n",
        "\n",
        "    plt.subplot(333)\n",
        "    plt.imshow(predicted_rgb[i])\n",
        "    plt.title(\"Predicted Segmented Image\",size=8.5)\n",
        "    plt.axis('off')\n",
        "\n",
        "    if(save==True):\n",
        "      plt.savefig(\"/content/drive/MyDrive/Image Segmentation/Stage 1/Image_Outputs/Iteration \"+str(epoch))\n",
        "    \n",
        "    # plt.show()\n",
        "    \n",
        "# plot data\n",
        "# save_plot(k[:16])"
      ],
      "metadata": {
        "id": "f6a35054",
        "execution": {
          "iopub.status.busy": "2023-05-03T18:37:19.170314Z",
          "iopub.execute_input": "2023-05-03T18:37:19.172653Z",
          "iopub.status.idle": "2023-05-03T18:37:19.182033Z",
          "shell.execute_reply.started": "2023-05-03T18:37:19.172616Z",
          "shell.execute_reply": "2023-05-03T18:37:19.181189Z"
        },
        "trusted": true
      },
      "execution_count": 40,
      "outputs": [],
      "id": "f6a35054"
    },
    {
      "cell_type": "code",
      "source": [
        "def load_data():\n",
        "    data = np.load(\"/content/drive/MyDrive/Image Segmentation/Datasets/street_data_128.npz\")\n",
        "    rgb, bw = data['a'], data['b']\n",
        "    rgb, bw = np.array(rgb), np.array(bw)\n",
        "    rgb, bw = rgb.astype('float32'), bw.astype('float32')\n",
        "    rgb = rgb.reshape((rgb.shape[0], rgb.shape[1], rgb.shape[2], 3))\n",
        "    bw = bw.reshape((bw.shape[0], bw.shape[1], bw.shape[2], 3))\n",
        "    # scale from [0,255] to [-1,1]\n",
        "    rgb = (rgb - 127.5) / 127.5\n",
        "    bw = (bw - 127.5) / 127.5\n",
        "    return bw, rgb\n",
        "    \n",
        "# rgb, bw = load_data()\n",
        "# print(rgb.shape, bw.shape)\n",
        "# show_prediction(rgb, bw, bw, epoch=0, n=1, save=False)"
      ],
      "metadata": {
        "id": "da97a1bd",
        "execution": {
          "iopub.status.busy": "2023-05-03T18:37:19.188621Z",
          "iopub.execute_input": "2023-05-03T18:37:19.190753Z",
          "iopub.status.idle": "2023-05-03T18:37:19.198871Z",
          "shell.execute_reply.started": "2023-05-03T18:37:19.190721Z",
          "shell.execute_reply": "2023-05-03T18:37:19.198058Z"
        },
        "trusted": true
      },
      "execution_count": 41,
      "outputs": [],
      "id": "da97a1bd"
    },
    {
      "cell_type": "code",
      "source": [
        "def generate_real_samples(rgb_images, bw_images, n_samples, patch_size):\n",
        "    ix = randint(0, rgb_images.shape[0], n_samples)\n",
        "    rgb_images = rgb_images[ix]\n",
        "    bw_images = bw_images[ix]\n",
        "    y = ones((n_samples, patch_size, patch_size, 1))\n",
        "    return [bw_images, rgb_images], y\n",
        "\n",
        "# d = generate_real_samples(rgb, bw, 32, 8)\n",
        "# print(np.array(d[0][0]).shape, np.array(d[0][1]).shape, np.array(d[1]).shape)\n",
        "# d[1][0]"
      ],
      "metadata": {
        "id": "a883c301",
        "execution": {
          "iopub.status.busy": "2023-05-03T18:37:19.200262Z",
          "iopub.execute_input": "2023-05-03T18:37:19.200824Z",
          "iopub.status.idle": "2023-05-03T18:37:19.216122Z",
          "shell.execute_reply.started": "2023-05-03T18:37:19.200794Z",
          "shell.execute_reply": "2023-05-03T18:37:19.215157Z"
        },
        "trusted": true
      },
      "execution_count": 42,
      "outputs": [],
      "id": "a883c301"
    },
    {
      "cell_type": "code",
      "source": [
        "def generate_fake_samples(generator, bw_images, n_samples, patch_size):\n",
        "    pred_rgb_images = generator.predict(bw_images,verbose=0)\n",
        "    y = -ones((n_samples, patch_size, patch_size, 1))\n",
        "    return pred_rgb_images, y\n",
        "\n",
        "# with tf.device(device_name):\n",
        "# kh = generate_fake_samples(b, 512, 3)\n",
        "# print(\"shape of the generated images: \",kh[0][0].shape)"
      ],
      "metadata": {
        "id": "8b981902",
        "execution": {
          "iopub.status.busy": "2023-05-03T18:37:19.217095Z",
          "iopub.execute_input": "2023-05-03T18:37:19.218180Z",
          "iopub.status.idle": "2023-05-03T18:37:19.227078Z",
          "shell.execute_reply.started": "2023-05-03T18:37:19.218150Z",
          "shell.execute_reply": "2023-05-03T18:37:19.226135Z"
        },
        "trusted": true
      },
      "execution_count": 43,
      "outputs": [],
      "id": "8b981902"
    },
    {
      "cell_type": "code",
      "source": [
        "def summarize_the_model(generator, rgb_images, bw_images, epoch, n_samples=1, save=False):\n",
        "    kk = 781\n",
        "    bw_images = bw_images[kk]\n",
        "    bw_images = bw_images.reshape((1, bw_images.shape[0], bw_images.shape[1], 3))\n",
        "    rgb_images = rgb_images[kk]\n",
        "    rgb_images = rgb_images.reshape((1, rgb_images.shape[0], rgb_images.shape[1], 3))\n",
        "    predicted_rgb  = generator.predict(bw_images,verbose=0)\n",
        "    # scale from [-1,1] to [0,1]\n",
        "    # X = (X + 1) / 2.0\n",
        "    bw_images = (bw_images + 1.0) / 2.0\n",
        "    rgb_images = (rgb_images + 1.0) / 2.0\n",
        "    predicted_rgb = (predicted_rgb + 1.0) / 2.0\n",
        "    show_prediction(bw_images, rgb_images, predicted_rgb, epoch, n=n_samples, save=save)"
      ],
      "metadata": {
        "id": "5b86702d",
        "execution": {
          "iopub.status.busy": "2023-05-03T18:37:19.228537Z",
          "iopub.execute_input": "2023-05-03T18:37:19.229466Z",
          "iopub.status.idle": "2023-05-03T18:37:19.238249Z",
          "shell.execute_reply.started": "2023-05-03T18:37:19.229436Z",
          "shell.execute_reply": "2023-05-03T18:37:19.237241Z"
        },
        "trusted": true
      },
      "execution_count": 44,
      "outputs": [],
      "id": "5b86702d"
    },
    {
      "cell_type": "code",
      "source": [
        "def train(g_model, d_model, gan_model, dataset, n_epochs=3, n_batch=128):\n",
        "    \n",
        "    rgb_images, bw_images = dataset\n",
        "    \n",
        "    print(\"Data Size: \",rgb_images.shape)\n",
        "    print(\"No. Of Epoch: \",n_epochs)\n",
        "    bat_per_epo = int(rgb_images.shape[0] / n_batch)\n",
        "    print(\"Batch Per Epoch: \", bat_per_epo)\n",
        "    print(\"Full Batch: \",n_batch)\n",
        "    # half_batch = int(n_batch / 2)\n",
        "    # print(\"Half Batch: \", half_batch,'\\n')\n",
        "    print(\"*\"*50,'\\n\\n')\n",
        "    \n",
        "    patch_size = d_model.output_shape[1]\n",
        "\n",
        "    d_loss_real_array,d_loss_fake_array =[],[]\n",
        "    g_loss_array = []\n",
        "    for i in range(n_epochs):\n",
        "        d_loss_r,d_loss_f = 0.0,0.0\n",
        "        g_loss = 0.0\n",
        "\n",
        "        for j in range(bat_per_epo):\n",
        "\n",
        "            [bw_real, rgb_real], y_real = generate_real_samples(rgb_images, bw_images, n_batch, patch_size)\n",
        "            d_loss1  = d_model.train_on_batch([bw_real, rgb_real], y_real)\n",
        "            d_loss_r += (d_loss1/n_batch)\n",
        "            # print(\"real_loss\")\n",
        "\n",
        "            pred_rgb, y_fake = generate_fake_samples(g_model, bw_real, n_batch, patch_size) # Trick 1 is Here\n",
        "            d_loss2  = d_model.train_on_batch([bw_real, pred_rgb], y_fake)\n",
        "            d_loss_f += (d_loss2/n_batch)\n",
        "            # print(\"fake_loss\")\n",
        "\n",
        "            g_loss_1, _ , _ = gan_model.train_on_batch(bw_real, [y_real, rgb_real]) # Trick 2 is Here\n",
        "            g_loss += (g_loss_1/n_batch)\n",
        "\n",
        "            d_loss_real_array.append(d_loss_r)\n",
        "            d_loss_fake_array.append(d_loss_f)\n",
        "            g_loss_array.append(g_loss)\n",
        "\n",
        "            # print(\"\\n\")\n",
        "\n",
        "        print('epoch -> [%d/%d], discriminator_loss_for_real_data = %f, discriminator_loss_for_fake_data = %f, generator_loss = %f\\n' %(i+1, n_epochs, d_loss_r, d_loss_f, g_loss))\n",
        "        epoch_k = i + 1\n",
        "        if(epoch_k%10==0):\n",
        "          summarize_the_model(g_model, rgb_images, bw_images, epoch_k, n_samples = 1, save=True)\n",
        "        # g_model.save(\"g_gan_model_\"+str(i)+\".h5\")\n",
        "        d_model.save(\"/content/drive/MyDrive/Image Segmentation/Stage 1/PixToPixGAN_Discriminator_Model.h5\")\n",
        "        g_model.save(\"/content/drive/MyDrive/Image Segmentation/Stage 1/PixToPixGAN_Generator_Model.h5\")\n",
        "        np.savez_compressed(\"/content/drive/MyDrive/Image Segmentation/Stage 1/PixToPixGAN_Loss_Record.npz\", a=d_loss_real_array, b=d_loss_fake_array, c=g_loss_array)\n",
        "\n",
        "        # print(\"\\n\")\n",
        "\n",
        "    return d_loss_real_array, d_loss_fake_array, g_loss_array"
      ],
      "metadata": {
        "id": "a7ef034d",
        "execution": {
          "iopub.status.busy": "2023-05-03T18:37:19.239781Z",
          "iopub.execute_input": "2023-05-03T18:37:19.240510Z",
          "iopub.status.idle": "2023-05-03T18:37:19.254915Z",
          "shell.execute_reply.started": "2023-05-03T18:37:19.240481Z",
          "shell.execute_reply": "2023-05-03T18:37:19.253924Z"
        },
        "trusted": true
      },
      "execution_count": 45,
      "outputs": [],
      "id": "a7ef034d"
    },
    {
      "cell_type": "code",
      "source": [
        "with tf.device(device_name):\n",
        "\n",
        "    n_epochs = 1500\n",
        "    n_batch = 32\n",
        "    \n",
        "    d_model = Discriminator()\n",
        "    g_model = Generator()\n",
        "    gan_model = GAN(g_model, d_model)\n",
        "    \n",
        "    dataset = load_data()\n",
        "    print('\\nREADY TO GO !!!\\n')\n",
        "\n",
        "    d_loss_real_array, d_loss_fake_array, g_loss_array = train(g_model, d_model, gan_model, dataset, n_epochs, n_batch)"
      ],
      "metadata": {
        "id": "6347270c",
        "colab": {
          "base_uri": "https://localhost:8080/"
        },
        "outputId": "665c32b1-e48f-489f-b938-1fe1ef89297a",
        "execution": {
          "iopub.status.busy": "2023-05-03T18:37:19.256195Z",
          "iopub.execute_input": "2023-05-03T18:37:19.256689Z"
        },
        "trusted": true
      },
      "execution_count": null,
      "outputs": [
        {
          "metadata": {
            "tags": null
          },
          "name": "stdout",
          "output_type": "stream",
          "text": [
            "\n",
            "READY TO GO !!!\n",
            "\n",
            "Data Size:  (2975, 128, 128, 3)\n",
            "No. Of Epoch:  1500\n",
            "Batch Per Epoch:  92\n",
            "Full Batch:  32\n",
            "************************************************** \n",
            "\n",
            "\n",
            "epoch -> [1/1500], discriminator_loss_for_real_data = 0.243415, discriminator_loss_for_fake_data = 0.394667, generator_loss = 69.206292\n",
            "\n"
          ]
        },
        {
          "metadata": {
            "tags": null
          },
          "name": "stderr",
          "output_type": "stream",
          "text": [
            "WARNING:tensorflow:Compiled the loaded model, but the compiled metrics have yet to be built. `model.compile_metrics` will be empty until you train or evaluate the model.\n"
          ]
        },
        {
          "metadata": {
            "tags": null
          },
          "name": "stdout",
          "output_type": "stream",
          "text": [
            "epoch -> [2/1500], discriminator_loss_for_real_data = 0.263361, discriminator_loss_for_fake_data = 0.395422, generator_loss = 57.641413\n",
            "\n"
          ]
        },
        {
          "metadata": {
            "tags": null
          },
          "name": "stderr",
          "output_type": "stream",
          "text": [
            "WARNING:tensorflow:Compiled the loaded model, but the compiled metrics have yet to be built. `model.compile_metrics` will be empty until you train or evaluate the model.\n"
          ]
        },
        {
          "metadata": {
            "tags": null
          },
          "name": "stdout",
          "output_type": "stream",
          "text": [
            "epoch -> [3/1500], discriminator_loss_for_real_data = 0.002319, discriminator_loss_for_fake_data = 0.002100, generator_loss = 54.986822\n",
            "\n"
          ]
        },
        {
          "metadata": {
            "tags": null
          },
          "name": "stderr",
          "output_type": "stream",
          "text": [
            "WARNING:tensorflow:Compiled the loaded model, but the compiled metrics have yet to be built. `model.compile_metrics` will be empty until you train or evaluate the model.\n"
          ]
        },
        {
          "metadata": {
            "tags": null
          },
          "name": "stdout",
          "output_type": "stream",
          "text": [
            "epoch -> [4/1500], discriminator_loss_for_real_data = 0.001177, discriminator_loss_for_fake_data = 0.001232, generator_loss = 52.168849\n",
            "\n"
          ]
        },
        {
          "metadata": {
            "tags": null
          },
          "name": "stderr",
          "output_type": "stream",
          "text": [
            "WARNING:tensorflow:Compiled the loaded model, but the compiled metrics have yet to be built. `model.compile_metrics` will be empty until you train or evaluate the model.\n"
          ]
        },
        {
          "metadata": {
            "tags": null
          },
          "name": "stdout",
          "output_type": "stream",
          "text": [
            "epoch -> [5/1500], discriminator_loss_for_real_data = 0.106699, discriminator_loss_for_fake_data = 0.101927, generator_loss = 50.450897\n",
            "\n"
          ]
        },
        {
          "metadata": {
            "tags": null
          },
          "name": "stderr",
          "output_type": "stream",
          "text": [
            "WARNING:tensorflow:Compiled the loaded model, but the compiled metrics have yet to be built. `model.compile_metrics` will be empty until you train or evaluate the model.\n"
          ]
        },
        {
          "metadata": {
            "tags": null
          },
          "name": "stdout",
          "output_type": "stream",
          "text": [
            "epoch -> [6/1500], discriminator_loss_for_real_data = 0.002695, discriminator_loss_for_fake_data = 0.001609, generator_loss = 49.214420\n",
            "\n"
          ]
        },
        {
          "metadata": {
            "tags": null
          },
          "name": "stderr",
          "output_type": "stream",
          "text": [
            "WARNING:tensorflow:Compiled the loaded model, but the compiled metrics have yet to be built. `model.compile_metrics` will be empty until you train or evaluate the model.\n"
          ]
        },
        {
          "metadata": {
            "tags": null
          },
          "name": "stdout",
          "output_type": "stream",
          "text": [
            "epoch -> [7/1500], discriminator_loss_for_real_data = 0.000566, discriminator_loss_for_fake_data = 0.001194, generator_loss = 47.246190\n",
            "\n"
          ]
        },
        {
          "metadata": {
            "tags": null
          },
          "name": "stderr",
          "output_type": "stream",
          "text": [
            "WARNING:tensorflow:Compiled the loaded model, but the compiled metrics have yet to be built. `model.compile_metrics` will be empty until you train or evaluate the model.\n"
          ]
        },
        {
          "metadata": {
            "tags": null
          },
          "name": "stdout",
          "output_type": "stream",
          "text": [
            "epoch -> [8/1500], discriminator_loss_for_real_data = 0.004390, discriminator_loss_for_fake_data = 0.008294, generator_loss = 46.302100\n",
            "\n"
          ]
        },
        {
          "metadata": {
            "tags": null
          },
          "name": "stderr",
          "output_type": "stream",
          "text": [
            "WARNING:tensorflow:Compiled the loaded model, but the compiled metrics have yet to be built. `model.compile_metrics` will be empty until you train or evaluate the model.\n"
          ]
        },
        {
          "metadata": {
            "tags": null
          },
          "name": "stdout",
          "output_type": "stream",
          "text": [
            "epoch -> [9/1500], discriminator_loss_for_real_data = 0.000303, discriminator_loss_for_fake_data = 0.000457, generator_loss = 45.666856\n",
            "\n"
          ]
        },
        {
          "metadata": {
            "tags": null
          },
          "name": "stderr",
          "output_type": "stream",
          "text": [
            "WARNING:tensorflow:Compiled the loaded model, but the compiled metrics have yet to be built. `model.compile_metrics` will be empty until you train or evaluate the model.\n"
          ]
        },
        {
          "metadata": {
            "tags": null
          },
          "name": "stdout",
          "output_type": "stream",
          "text": [
            "epoch -> [10/1500], discriminator_loss_for_real_data = 0.000091, discriminator_loss_for_fake_data = 0.000107, generator_loss = 44.377367\n",
            "\n"
          ]
        },
        {
          "metadata": {
            "tags": null
          },
          "name": "stderr",
          "output_type": "stream",
          "text": [
            "WARNING:tensorflow:Compiled the loaded model, but the compiled metrics have yet to be built. `model.compile_metrics` will be empty until you train or evaluate the model.\n"
          ]
        },
        {
          "metadata": {
            "tags": null
          },
          "name": "stdout",
          "output_type": "stream",
          "text": [
            "epoch -> [11/1500], discriminator_loss_for_real_data = 0.000129, discriminator_loss_for_fake_data = 0.000093, generator_loss = 44.076465\n",
            "\n"
          ]
        },
        {
          "metadata": {
            "tags": null
          },
          "name": "stderr",
          "output_type": "stream",
          "text": [
            "WARNING:tensorflow:Compiled the loaded model, but the compiled metrics have yet to be built. `model.compile_metrics` will be empty until you train or evaluate the model.\n"
          ]
        },
        {
          "metadata": {
            "tags": null
          },
          "name": "stdout",
          "output_type": "stream",
          "text": [
            "epoch -> [12/1500], discriminator_loss_for_real_data = 0.000015, discriminator_loss_for_fake_data = 0.000040, generator_loss = 43.009117\n",
            "\n"
          ]
        },
        {
          "metadata": {
            "tags": null
          },
          "name": "stderr",
          "output_type": "stream",
          "text": [
            "WARNING:tensorflow:Compiled the loaded model, but the compiled metrics have yet to be built. `model.compile_metrics` will be empty until you train or evaluate the model.\n"
          ]
        },
        {
          "metadata": {
            "tags": null
          },
          "name": "stdout",
          "output_type": "stream",
          "text": [
            "epoch -> [13/1500], discriminator_loss_for_real_data = 0.000039, discriminator_loss_for_fake_data = 0.000135, generator_loss = 42.613353\n",
            "\n"
          ]
        },
        {
          "metadata": {
            "tags": null
          },
          "name": "stderr",
          "output_type": "stream",
          "text": [
            "WARNING:tensorflow:Compiled the loaded model, but the compiled metrics have yet to be built. `model.compile_metrics` will be empty until you train or evaluate the model.\n"
          ]
        },
        {
          "metadata": {
            "tags": null
          },
          "name": "stdout",
          "output_type": "stream",
          "text": [
            "epoch -> [14/1500], discriminator_loss_for_real_data = 0.000080, discriminator_loss_for_fake_data = 0.000260, generator_loss = 41.722620\n",
            "\n"
          ]
        },
        {
          "metadata": {
            "tags": null
          },
          "name": "stderr",
          "output_type": "stream",
          "text": [
            "WARNING:tensorflow:Compiled the loaded model, but the compiled metrics have yet to be built. `model.compile_metrics` will be empty until you train or evaluate the model.\n"
          ]
        },
        {
          "metadata": {
            "tags": null
          },
          "name": "stdout",
          "output_type": "stream",
          "text": [
            "epoch -> [15/1500], discriminator_loss_for_real_data = 0.000035, discriminator_loss_for_fake_data = 0.000159, generator_loss = 41.244332\n",
            "\n"
          ]
        },
        {
          "metadata": {
            "tags": null
          },
          "name": "stderr",
          "output_type": "stream",
          "text": [
            "WARNING:tensorflow:Compiled the loaded model, but the compiled metrics have yet to be built. `model.compile_metrics` will be empty until you train or evaluate the model.\n"
          ]
        },
        {
          "metadata": {
            "tags": null
          },
          "name": "stdout",
          "output_type": "stream",
          "text": [
            "epoch -> [16/1500], discriminator_loss_for_real_data = 0.131831, discriminator_loss_for_fake_data = 0.487512, generator_loss = 40.281127\n",
            "\n"
          ]
        },
        {
          "metadata": {
            "tags": null
          },
          "name": "stderr",
          "output_type": "stream",
          "text": [
            "WARNING:tensorflow:Compiled the loaded model, but the compiled metrics have yet to be built. `model.compile_metrics` will be empty until you train or evaluate the model.\n"
          ]
        },
        {
          "metadata": {
            "tags": null
          },
          "name": "stdout",
          "output_type": "stream",
          "text": [
            "epoch -> [17/1500], discriminator_loss_for_real_data = 0.002885, discriminator_loss_for_fake_data = 0.002401, generator_loss = 40.366224\n",
            "\n"
          ]
        },
        {
          "metadata": {
            "tags": null
          },
          "name": "stderr",
          "output_type": "stream",
          "text": [
            "WARNING:tensorflow:Compiled the loaded model, but the compiled metrics have yet to be built. `model.compile_metrics` will be empty until you train or evaluate the model.\n"
          ]
        },
        {
          "metadata": {
            "tags": null
          },
          "name": "stdout",
          "output_type": "stream",
          "text": [
            "epoch -> [18/1500], discriminator_loss_for_real_data = 0.360223, discriminator_loss_for_fake_data = 0.105255, generator_loss = 40.260881\n",
            "\n"
          ]
        },
        {
          "metadata": {
            "tags": null
          },
          "name": "stderr",
          "output_type": "stream",
          "text": [
            "WARNING:tensorflow:Compiled the loaded model, but the compiled metrics have yet to be built. `model.compile_metrics` will be empty until you train or evaluate the model.\n"
          ]
        },
        {
          "metadata": {
            "tags": null
          },
          "name": "stdout",
          "output_type": "stream",
          "text": [
            "epoch -> [19/1500], discriminator_loss_for_real_data = 0.000841, discriminator_loss_for_fake_data = 0.001279, generator_loss = 39.512048\n",
            "\n"
          ]
        },
        {
          "metadata": {
            "tags": null
          },
          "name": "stderr",
          "output_type": "stream",
          "text": [
            "WARNING:tensorflow:Compiled the loaded model, but the compiled metrics have yet to be built. `model.compile_metrics` will be empty until you train or evaluate the model.\n"
          ]
        },
        {
          "metadata": {
            "tags": null
          },
          "name": "stdout",
          "output_type": "stream",
          "text": [
            "epoch -> [20/1500], discriminator_loss_for_real_data = 0.000118, discriminator_loss_for_fake_data = 0.000326, generator_loss = 39.375492\n",
            "\n"
          ]
        },
        {
          "metadata": {
            "tags": null
          },
          "name": "stderr",
          "output_type": "stream",
          "text": [
            "WARNING:tensorflow:Compiled the loaded model, but the compiled metrics have yet to be built. `model.compile_metrics` will be empty until you train or evaluate the model.\n"
          ]
        },
        {
          "metadata": {
            "tags": null
          },
          "name": "stdout",
          "output_type": "stream",
          "text": [
            "epoch -> [21/1500], discriminator_loss_for_real_data = 0.000372, discriminator_loss_for_fake_data = 0.001071, generator_loss = 39.011124\n",
            "\n"
          ]
        },
        {
          "metadata": {
            "tags": null
          },
          "name": "stderr",
          "output_type": "stream",
          "text": [
            "WARNING:tensorflow:Compiled the loaded model, but the compiled metrics have yet to be built. `model.compile_metrics` will be empty until you train or evaluate the model.\n"
          ]
        },
        {
          "metadata": {
            "tags": null
          },
          "name": "stdout",
          "output_type": "stream",
          "text": [
            "epoch -> [22/1500], discriminator_loss_for_real_data = 0.000203, discriminator_loss_for_fake_data = 0.000702, generator_loss = 38.544882\n",
            "\n"
          ]
        },
        {
          "metadata": {
            "tags": null
          },
          "name": "stderr",
          "output_type": "stream",
          "text": [
            "WARNING:tensorflow:Compiled the loaded model, but the compiled metrics have yet to be built. `model.compile_metrics` will be empty until you train or evaluate the model.\n"
          ]
        },
        {
          "metadata": {
            "tags": null
          },
          "name": "stdout",
          "output_type": "stream",
          "text": [
            "epoch -> [23/1500], discriminator_loss_for_real_data = 0.001070, discriminator_loss_for_fake_data = 0.002537, generator_loss = 38.073890\n",
            "\n"
          ]
        },
        {
          "metadata": {
            "tags": null
          },
          "name": "stderr",
          "output_type": "stream",
          "text": [
            "WARNING:tensorflow:Compiled the loaded model, but the compiled metrics have yet to be built. `model.compile_metrics` will be empty until you train or evaluate the model.\n"
          ]
        },
        {
          "metadata": {
            "tags": null
          },
          "name": "stdout",
          "output_type": "stream",
          "text": [
            "epoch -> [24/1500], discriminator_loss_for_real_data = 0.000815, discriminator_loss_for_fake_data = 0.001765, generator_loss = 38.517395\n",
            "\n"
          ]
        },
        {
          "metadata": {
            "tags": null
          },
          "name": "stderr",
          "output_type": "stream",
          "text": [
            "WARNING:tensorflow:Compiled the loaded model, but the compiled metrics have yet to be built. `model.compile_metrics` will be empty until you train or evaluate the model.\n"
          ]
        },
        {
          "metadata": {
            "tags": null
          },
          "name": "stdout",
          "output_type": "stream",
          "text": [
            "epoch -> [25/1500], discriminator_loss_for_real_data = 0.035036, discriminator_loss_for_fake_data = 0.096838, generator_loss = 37.546334\n",
            "\n"
          ]
        },
        {
          "metadata": {
            "tags": null
          },
          "name": "stderr",
          "output_type": "stream",
          "text": [
            "WARNING:tensorflow:Compiled the loaded model, but the compiled metrics have yet to be built. `model.compile_metrics` will be empty until you train or evaluate the model.\n"
          ]
        },
        {
          "metadata": {
            "tags": null
          },
          "name": "stdout",
          "output_type": "stream",
          "text": [
            "epoch -> [26/1500], discriminator_loss_for_real_data = 0.000238, discriminator_loss_for_fake_data = 0.000694, generator_loss = 37.430078\n",
            "\n"
          ]
        },
        {
          "metadata": {
            "tags": null
          },
          "name": "stderr",
          "output_type": "stream",
          "text": [
            "WARNING:tensorflow:Compiled the loaded model, but the compiled metrics have yet to be built. `model.compile_metrics` will be empty until you train or evaluate the model.\n"
          ]
        },
        {
          "metadata": {
            "tags": null
          },
          "name": "stdout",
          "output_type": "stream",
          "text": [
            "epoch -> [27/1500], discriminator_loss_for_real_data = 0.000117, discriminator_loss_for_fake_data = 0.000432, generator_loss = 36.867225\n",
            "\n"
          ]
        },
        {
          "metadata": {
            "tags": null
          },
          "name": "stderr",
          "output_type": "stream",
          "text": [
            "WARNING:tensorflow:Compiled the loaded model, but the compiled metrics have yet to be built. `model.compile_metrics` will be empty until you train or evaluate the model.\n"
          ]
        },
        {
          "metadata": {
            "tags": null
          },
          "name": "stdout",
          "output_type": "stream",
          "text": [
            "epoch -> [28/1500], discriminator_loss_for_real_data = 0.000311, discriminator_loss_for_fake_data = 0.000969, generator_loss = 36.874668\n",
            "\n"
          ]
        },
        {
          "metadata": {
            "tags": null
          },
          "name": "stderr",
          "output_type": "stream",
          "text": [
            "WARNING:tensorflow:Compiled the loaded model, but the compiled metrics have yet to be built. `model.compile_metrics` will be empty until you train or evaluate the model.\n"
          ]
        },
        {
          "metadata": {
            "tags": null
          },
          "name": "stdout",
          "output_type": "stream",
          "text": [
            "epoch -> [29/1500], discriminator_loss_for_real_data = 0.000491, discriminator_loss_for_fake_data = 0.001187, generator_loss = 36.633845\n",
            "\n"
          ]
        },
        {
          "metadata": {
            "tags": null
          },
          "name": "stderr",
          "output_type": "stream",
          "text": [
            "WARNING:tensorflow:Compiled the loaded model, but the compiled metrics have yet to be built. `model.compile_metrics` will be empty until you train or evaluate the model.\n"
          ]
        },
        {
          "metadata": {
            "tags": null
          },
          "name": "stdout",
          "output_type": "stream",
          "text": [
            "epoch -> [30/1500], discriminator_loss_for_real_data = 0.000741, discriminator_loss_for_fake_data = 0.001855, generator_loss = 36.465098\n",
            "\n"
          ]
        },
        {
          "metadata": {
            "tags": null
          },
          "name": "stderr",
          "output_type": "stream",
          "text": [
            "WARNING:tensorflow:Compiled the loaded model, but the compiled metrics have yet to be built. `model.compile_metrics` will be empty until you train or evaluate the model.\n"
          ]
        },
        {
          "metadata": {
            "tags": null
          },
          "name": "stdout",
          "output_type": "stream",
          "text": [
            "epoch -> [31/1500], discriminator_loss_for_real_data = 0.043629, discriminator_loss_for_fake_data = 0.061082, generator_loss = 36.359742\n",
            "\n"
          ]
        },
        {
          "metadata": {
            "tags": null
          },
          "name": "stderr",
          "output_type": "stream",
          "text": [
            "WARNING:tensorflow:Compiled the loaded model, but the compiled metrics have yet to be built. `model.compile_metrics` will be empty until you train or evaluate the model.\n"
          ]
        },
        {
          "metadata": {
            "tags": null
          },
          "name": "stdout",
          "output_type": "stream",
          "text": [
            "epoch -> [32/1500], discriminator_loss_for_real_data = 0.000783, discriminator_loss_for_fake_data = 0.001807, generator_loss = 35.878466\n",
            "\n"
          ]
        },
        {
          "metadata": {
            "tags": null
          },
          "name": "stderr",
          "output_type": "stream",
          "text": [
            "WARNING:tensorflow:Compiled the loaded model, but the compiled metrics have yet to be built. `model.compile_metrics` will be empty until you train or evaluate the model.\n"
          ]
        },
        {
          "metadata": {
            "tags": null
          },
          "name": "stdout",
          "output_type": "stream",
          "text": [
            "epoch -> [33/1500], discriminator_loss_for_real_data = 0.001376, discriminator_loss_for_fake_data = 0.002719, generator_loss = 35.712890\n",
            "\n"
          ]
        },
        {
          "metadata": {
            "tags": null
          },
          "name": "stderr",
          "output_type": "stream",
          "text": [
            "WARNING:tensorflow:Compiled the loaded model, but the compiled metrics have yet to be built. `model.compile_metrics` will be empty until you train or evaluate the model.\n"
          ]
        },
        {
          "metadata": {
            "tags": null
          },
          "name": "stdout",
          "output_type": "stream",
          "text": [
            "epoch -> [34/1500], discriminator_loss_for_real_data = 0.001681, discriminator_loss_for_fake_data = 0.002837, generator_loss = 35.643537\n",
            "\n"
          ]
        },
        {
          "metadata": {
            "tags": null
          },
          "name": "stderr",
          "output_type": "stream",
          "text": [
            "WARNING:tensorflow:Compiled the loaded model, but the compiled metrics have yet to be built. `model.compile_metrics` will be empty until you train or evaluate the model.\n"
          ]
        },
        {
          "metadata": {
            "tags": null
          },
          "name": "stdout",
          "output_type": "stream",
          "text": [
            "epoch -> [35/1500], discriminator_loss_for_real_data = 0.001416, discriminator_loss_for_fake_data = 0.002328, generator_loss = 35.175734\n",
            "\n"
          ]
        },
        {
          "metadata": {
            "tags": null
          },
          "name": "stderr",
          "output_type": "stream",
          "text": [
            "WARNING:tensorflow:Compiled the loaded model, but the compiled metrics have yet to be built. `model.compile_metrics` will be empty until you train or evaluate the model.\n"
          ]
        },
        {
          "metadata": {
            "tags": null
          },
          "name": "stdout",
          "output_type": "stream",
          "text": [
            "epoch -> [36/1500], discriminator_loss_for_real_data = 0.001696, discriminator_loss_for_fake_data = 0.002408, generator_loss = 35.200652\n",
            "\n"
          ]
        },
        {
          "metadata": {
            "tags": null
          },
          "name": "stderr",
          "output_type": "stream",
          "text": [
            "WARNING:tensorflow:Compiled the loaded model, but the compiled metrics have yet to be built. `model.compile_metrics` will be empty until you train or evaluate the model.\n"
          ]
        },
        {
          "metadata": {
            "tags": null
          },
          "name": "stdout",
          "output_type": "stream",
          "text": [
            "epoch -> [37/1500], discriminator_loss_for_real_data = 0.000968, discriminator_loss_for_fake_data = 0.001529, generator_loss = 35.027324\n",
            "\n"
          ]
        },
        {
          "metadata": {
            "tags": null
          },
          "name": "stderr",
          "output_type": "stream",
          "text": [
            "WARNING:tensorflow:Compiled the loaded model, but the compiled metrics have yet to be built. `model.compile_metrics` will be empty until you train or evaluate the model.\n"
          ]
        },
        {
          "metadata": {
            "tags": null
          },
          "name": "stdout",
          "output_type": "stream",
          "text": [
            "epoch -> [38/1500], discriminator_loss_for_real_data = 0.000781, discriminator_loss_for_fake_data = 0.001188, generator_loss = 35.307541\n",
            "\n"
          ]
        },
        {
          "metadata": {
            "tags": null
          },
          "name": "stderr",
          "output_type": "stream",
          "text": [
            "WARNING:tensorflow:Compiled the loaded model, but the compiled metrics have yet to be built. `model.compile_metrics` will be empty until you train or evaluate the model.\n"
          ]
        },
        {
          "metadata": {
            "tags": null
          },
          "name": "stdout",
          "output_type": "stream",
          "text": [
            "epoch -> [39/1500], discriminator_loss_for_real_data = 0.000631, discriminator_loss_for_fake_data = 0.000964, generator_loss = 34.816675\n",
            "\n"
          ]
        },
        {
          "metadata": {
            "tags": null
          },
          "name": "stderr",
          "output_type": "stream",
          "text": [
            "WARNING:tensorflow:Compiled the loaded model, but the compiled metrics have yet to be built. `model.compile_metrics` will be empty until you train or evaluate the model.\n"
          ]
        },
        {
          "metadata": {
            "tags": null
          },
          "name": "stdout",
          "output_type": "stream",
          "text": [
            "epoch -> [40/1500], discriminator_loss_for_real_data = 0.000452, discriminator_loss_for_fake_data = 0.000683, generator_loss = 38.397723\n",
            "\n"
          ]
        },
        {
          "metadata": {
            "tags": null
          },
          "name": "stderr",
          "output_type": "stream",
          "text": [
            "WARNING:tensorflow:Compiled the loaded model, but the compiled metrics have yet to be built. `model.compile_metrics` will be empty until you train or evaluate the model.\n"
          ]
        },
        {
          "metadata": {
            "tags": null
          },
          "name": "stdout",
          "output_type": "stream",
          "text": [
            "epoch -> [41/1500], discriminator_loss_for_real_data = 0.000376, discriminator_loss_for_fake_data = 0.000595, generator_loss = 35.546725\n",
            "\n"
          ]
        },
        {
          "metadata": {
            "tags": null
          },
          "name": "stderr",
          "output_type": "stream",
          "text": [
            "WARNING:tensorflow:Compiled the loaded model, but the compiled metrics have yet to be built. `model.compile_metrics` will be empty until you train or evaluate the model.\n"
          ]
        },
        {
          "metadata": {
            "tags": null
          },
          "name": "stdout",
          "output_type": "stream",
          "text": [
            "epoch -> [42/1500], discriminator_loss_for_real_data = 0.000341, discriminator_loss_for_fake_data = 0.000542, generator_loss = 34.762166\n",
            "\n"
          ]
        },
        {
          "metadata": {
            "tags": null
          },
          "name": "stderr",
          "output_type": "stream",
          "text": [
            "WARNING:tensorflow:Compiled the loaded model, but the compiled metrics have yet to be built. `model.compile_metrics` will be empty until you train or evaluate the model.\n"
          ]
        },
        {
          "metadata": {
            "tags": null
          },
          "name": "stdout",
          "output_type": "stream",
          "text": [
            "epoch -> [43/1500], discriminator_loss_for_real_data = 0.000293, discriminator_loss_for_fake_data = 0.000461, generator_loss = 34.391200\n",
            "\n"
          ]
        },
        {
          "metadata": {
            "tags": null
          },
          "name": "stderr",
          "output_type": "stream",
          "text": [
            "WARNING:tensorflow:Compiled the loaded model, but the compiled metrics have yet to be built. `model.compile_metrics` will be empty until you train or evaluate the model.\n"
          ]
        },
        {
          "metadata": {
            "tags": null
          },
          "name": "stdout",
          "output_type": "stream",
          "text": [
            "epoch -> [44/1500], discriminator_loss_for_real_data = 0.000251, discriminator_loss_for_fake_data = 0.000407, generator_loss = 34.448980\n",
            "\n"
          ]
        },
        {
          "metadata": {
            "tags": null
          },
          "name": "stderr",
          "output_type": "stream",
          "text": [
            "WARNING:tensorflow:Compiled the loaded model, but the compiled metrics have yet to be built. `model.compile_metrics` will be empty until you train or evaluate the model.\n"
          ]
        },
        {
          "metadata": {
            "tags": null
          },
          "name": "stdout",
          "output_type": "stream",
          "text": [
            "epoch -> [45/1500], discriminator_loss_for_real_data = 0.000239, discriminator_loss_for_fake_data = 0.000384, generator_loss = 33.969168\n",
            "\n"
          ]
        },
        {
          "metadata": {
            "tags": null
          },
          "name": "stderr",
          "output_type": "stream",
          "text": [
            "WARNING:tensorflow:Compiled the loaded model, but the compiled metrics have yet to be built. `model.compile_metrics` will be empty until you train or evaluate the model.\n"
          ]
        },
        {
          "metadata": {
            "tags": null
          },
          "name": "stdout",
          "output_type": "stream",
          "text": [
            "epoch -> [46/1500], discriminator_loss_for_real_data = 0.000231, discriminator_loss_for_fake_data = 0.000369, generator_loss = 34.049907\n",
            "\n"
          ]
        },
        {
          "metadata": {
            "tags": null
          },
          "name": "stderr",
          "output_type": "stream",
          "text": [
            "WARNING:tensorflow:Compiled the loaded model, but the compiled metrics have yet to be built. `model.compile_metrics` will be empty until you train or evaluate the model.\n"
          ]
        },
        {
          "metadata": {
            "tags": null
          },
          "name": "stdout",
          "output_type": "stream",
          "text": [
            "epoch -> [47/1500], discriminator_loss_for_real_data = 0.000222, discriminator_loss_for_fake_data = 0.000349, generator_loss = 33.928132\n",
            "\n"
          ]
        },
        {
          "metadata": {
            "tags": null
          },
          "name": "stderr",
          "output_type": "stream",
          "text": [
            "WARNING:tensorflow:Compiled the loaded model, but the compiled metrics have yet to be built. `model.compile_metrics` will be empty until you train or evaluate the model.\n"
          ]
        },
        {
          "metadata": {
            "tags": null
          },
          "name": "stdout",
          "output_type": "stream",
          "text": [
            "epoch -> [48/1500], discriminator_loss_for_real_data = 0.000202, discriminator_loss_for_fake_data = 0.000315, generator_loss = 33.893421\n",
            "\n"
          ]
        },
        {
          "metadata": {
            "tags": null
          },
          "name": "stderr",
          "output_type": "stream",
          "text": [
            "WARNING:tensorflow:Compiled the loaded model, but the compiled metrics have yet to be built. `model.compile_metrics` will be empty until you train or evaluate the model.\n"
          ]
        },
        {
          "metadata": {
            "tags": null
          },
          "name": "stdout",
          "output_type": "stream",
          "text": [
            "epoch -> [49/1500], discriminator_loss_for_real_data = 0.000187, discriminator_loss_for_fake_data = 0.000290, generator_loss = 33.838422\n",
            "\n"
          ]
        },
        {
          "metadata": {
            "tags": null
          },
          "name": "stderr",
          "output_type": "stream",
          "text": [
            "WARNING:tensorflow:Compiled the loaded model, but the compiled metrics have yet to be built. `model.compile_metrics` will be empty until you train or evaluate the model.\n"
          ]
        },
        {
          "metadata": {
            "tags": null
          },
          "name": "stdout",
          "output_type": "stream",
          "text": [
            "epoch -> [50/1500], discriminator_loss_for_real_data = 0.000181, discriminator_loss_for_fake_data = 0.000271, generator_loss = 33.696590\n",
            "\n"
          ]
        },
        {
          "metadata": {
            "tags": null
          },
          "name": "stderr",
          "output_type": "stream",
          "text": [
            "WARNING:tensorflow:Compiled the loaded model, but the compiled metrics have yet to be built. `model.compile_metrics` will be empty until you train or evaluate the model.\n"
          ]
        },
        {
          "metadata": {
            "tags": null
          },
          "name": "stdout",
          "output_type": "stream",
          "text": [
            "epoch -> [51/1500], discriminator_loss_for_real_data = 0.127578, discriminator_loss_for_fake_data = 0.384842, generator_loss = 32.975447\n",
            "\n"
          ]
        },
        {
          "metadata": {
            "tags": null
          },
          "name": "stderr",
          "output_type": "stream",
          "text": [
            "WARNING:tensorflow:Compiled the loaded model, but the compiled metrics have yet to be built. `model.compile_metrics` will be empty until you train or evaluate the model.\n"
          ]
        },
        {
          "metadata": {
            "tags": null
          },
          "name": "stdout",
          "output_type": "stream",
          "text": [
            "epoch -> [52/1500], discriminator_loss_for_real_data = 0.010302, discriminator_loss_for_fake_data = 0.012140, generator_loss = 33.032473\n",
            "\n"
          ]
        },
        {
          "metadata": {
            "tags": null
          },
          "name": "stderr",
          "output_type": "stream",
          "text": [
            "WARNING:tensorflow:Compiled the loaded model, but the compiled metrics have yet to be built. `model.compile_metrics` will be empty until you train or evaluate the model.\n"
          ]
        },
        {
          "metadata": {
            "tags": null
          },
          "name": "stdout",
          "output_type": "stream",
          "text": [
            "epoch -> [53/1500], discriminator_loss_for_real_data = 0.006674, discriminator_loss_for_fake_data = 0.007824, generator_loss = 32.967474\n",
            "\n"
          ]
        },
        {
          "metadata": {
            "tags": null
          },
          "name": "stderr",
          "output_type": "stream",
          "text": [
            "WARNING:tensorflow:Compiled the loaded model, but the compiled metrics have yet to be built. `model.compile_metrics` will be empty until you train or evaluate the model.\n"
          ]
        },
        {
          "metadata": {
            "tags": null
          },
          "name": "stdout",
          "output_type": "stream",
          "text": [
            "epoch -> [54/1500], discriminator_loss_for_real_data = 0.004774, discriminator_loss_for_fake_data = 0.006126, generator_loss = 32.947961\n",
            "\n"
          ]
        },
        {
          "metadata": {
            "tags": null
          },
          "name": "stderr",
          "output_type": "stream",
          "text": [
            "WARNING:tensorflow:Compiled the loaded model, but the compiled metrics have yet to be built. `model.compile_metrics` will be empty until you train or evaluate the model.\n"
          ]
        },
        {
          "metadata": {
            "tags": null
          },
          "name": "stdout",
          "output_type": "stream",
          "text": [
            "epoch -> [55/1500], discriminator_loss_for_real_data = 0.003100, discriminator_loss_for_fake_data = 0.004201, generator_loss = 33.000491\n",
            "\n"
          ]
        },
        {
          "metadata": {
            "tags": null
          },
          "name": "stderr",
          "output_type": "stream",
          "text": [
            "WARNING:tensorflow:Compiled the loaded model, but the compiled metrics have yet to be built. `model.compile_metrics` will be empty until you train or evaluate the model.\n"
          ]
        },
        {
          "metadata": {
            "tags": null
          },
          "name": "stdout",
          "output_type": "stream",
          "text": [
            "epoch -> [56/1500], discriminator_loss_for_real_data = 0.002429, discriminator_loss_for_fake_data = 0.003545, generator_loss = 32.809101\n",
            "\n"
          ]
        },
        {
          "metadata": {
            "tags": null
          },
          "name": "stderr",
          "output_type": "stream",
          "text": [
            "WARNING:tensorflow:Compiled the loaded model, but the compiled metrics have yet to be built. `model.compile_metrics` will be empty until you train or evaluate the model.\n"
          ]
        },
        {
          "metadata": {
            "tags": null
          },
          "name": "stdout",
          "output_type": "stream",
          "text": [
            "epoch -> [57/1500], discriminator_loss_for_real_data = 0.001772, discriminator_loss_for_fake_data = 0.002776, generator_loss = 32.724255\n",
            "\n"
          ]
        },
        {
          "metadata": {
            "tags": null
          },
          "name": "stderr",
          "output_type": "stream",
          "text": [
            "WARNING:tensorflow:Compiled the loaded model, but the compiled metrics have yet to be built. `model.compile_metrics` will be empty until you train or evaluate the model.\n"
          ]
        },
        {
          "metadata": {
            "tags": null
          },
          "name": "stdout",
          "output_type": "stream",
          "text": [
            "epoch -> [58/1500], discriminator_loss_for_real_data = 0.001358, discriminator_loss_for_fake_data = 0.002292, generator_loss = 32.711704\n",
            "\n"
          ]
        },
        {
          "metadata": {
            "tags": null
          },
          "name": "stderr",
          "output_type": "stream",
          "text": [
            "WARNING:tensorflow:Compiled the loaded model, but the compiled metrics have yet to be built. `model.compile_metrics` will be empty until you train or evaluate the model.\n"
          ]
        },
        {
          "metadata": {
            "tags": null
          },
          "name": "stdout",
          "output_type": "stream",
          "text": [
            "epoch -> [59/1500], discriminator_loss_for_real_data = 0.001076, discriminator_loss_for_fake_data = 0.001933, generator_loss = 32.678693\n",
            "\n"
          ]
        },
        {
          "metadata": {
            "tags": null
          },
          "name": "stderr",
          "output_type": "stream",
          "text": [
            "WARNING:tensorflow:Compiled the loaded model, but the compiled metrics have yet to be built. `model.compile_metrics` will be empty until you train or evaluate the model.\n"
          ]
        },
        {
          "metadata": {
            "tags": null
          },
          "name": "stdout",
          "output_type": "stream",
          "text": [
            "epoch -> [60/1500], discriminator_loss_for_real_data = 0.000921, discriminator_loss_for_fake_data = 0.001695, generator_loss = 32.649174\n",
            "\n"
          ]
        },
        {
          "metadata": {
            "tags": null
          },
          "name": "stderr",
          "output_type": "stream",
          "text": [
            "WARNING:tensorflow:Compiled the loaded model, but the compiled metrics have yet to be built. `model.compile_metrics` will be empty until you train or evaluate the model.\n"
          ]
        },
        {
          "metadata": {
            "tags": null
          },
          "name": "stdout",
          "output_type": "stream",
          "text": [
            "epoch -> [61/1500], discriminator_loss_for_real_data = 0.000792, discriminator_loss_for_fake_data = 0.001471, generator_loss = 32.678026\n",
            "\n"
          ]
        },
        {
          "metadata": {
            "tags": null
          },
          "name": "stderr",
          "output_type": "stream",
          "text": [
            "WARNING:tensorflow:Compiled the loaded model, but the compiled metrics have yet to be built. `model.compile_metrics` will be empty until you train or evaluate the model.\n"
          ]
        },
        {
          "metadata": {
            "tags": null
          },
          "name": "stdout",
          "output_type": "stream",
          "text": [
            "epoch -> [62/1500], discriminator_loss_for_real_data = 0.000672, discriminator_loss_for_fake_data = 0.001316, generator_loss = 32.679403\n",
            "\n"
          ]
        },
        {
          "metadata": {
            "tags": null
          },
          "name": "stderr",
          "output_type": "stream",
          "text": [
            "WARNING:tensorflow:Compiled the loaded model, but the compiled metrics have yet to be built. `model.compile_metrics` will be empty until you train or evaluate the model.\n"
          ]
        },
        {
          "metadata": {
            "tags": null
          },
          "name": "stdout",
          "output_type": "stream",
          "text": [
            "epoch -> [63/1500], discriminator_loss_for_real_data = 0.020359, discriminator_loss_for_fake_data = 0.062421, generator_loss = 32.479175\n",
            "\n"
          ]
        },
        {
          "metadata": {
            "tags": null
          },
          "name": "stderr",
          "output_type": "stream",
          "text": [
            "WARNING:tensorflow:Compiled the loaded model, but the compiled metrics have yet to be built. `model.compile_metrics` will be empty until you train or evaluate the model.\n"
          ]
        },
        {
          "metadata": {
            "tags": null
          },
          "name": "stdout",
          "output_type": "stream",
          "text": [
            "epoch -> [64/1500], discriminator_loss_for_real_data = 0.024816, discriminator_loss_for_fake_data = 0.035650, generator_loss = 31.736629\n",
            "\n"
          ]
        },
        {
          "metadata": {
            "tags": null
          },
          "name": "stderr",
          "output_type": "stream",
          "text": [
            "WARNING:tensorflow:Compiled the loaded model, but the compiled metrics have yet to be built. `model.compile_metrics` will be empty until you train or evaluate the model.\n"
          ]
        },
        {
          "metadata": {
            "tags": null
          },
          "name": "stdout",
          "output_type": "stream",
          "text": [
            "epoch -> [65/1500], discriminator_loss_for_real_data = 0.005367, discriminator_loss_for_fake_data = 0.012045, generator_loss = 31.780728\n",
            "\n"
          ]
        },
        {
          "metadata": {
            "tags": null
          },
          "name": "stderr",
          "output_type": "stream",
          "text": [
            "WARNING:tensorflow:Compiled the loaded model, but the compiled metrics have yet to be built. `model.compile_metrics` will be empty until you train or evaluate the model.\n"
          ]
        },
        {
          "metadata": {
            "tags": null
          },
          "name": "stdout",
          "output_type": "stream",
          "text": [
            "epoch -> [66/1500], discriminator_loss_for_real_data = 0.002739, discriminator_loss_for_fake_data = 0.007586, generator_loss = 31.870659\n",
            "\n"
          ]
        },
        {
          "metadata": {
            "tags": null
          },
          "name": "stderr",
          "output_type": "stream",
          "text": [
            "WARNING:tensorflow:Compiled the loaded model, but the compiled metrics have yet to be built. `model.compile_metrics` will be empty until you train or evaluate the model.\n"
          ]
        },
        {
          "metadata": {
            "tags": null
          },
          "name": "stdout",
          "output_type": "stream",
          "text": [
            "epoch -> [67/1500], discriminator_loss_for_real_data = 0.001861, discriminator_loss_for_fake_data = 0.005987, generator_loss = 32.018929\n",
            "\n"
          ]
        },
        {
          "metadata": {
            "tags": null
          },
          "name": "stderr",
          "output_type": "stream",
          "text": [
            "WARNING:tensorflow:Compiled the loaded model, but the compiled metrics have yet to be built. `model.compile_metrics` will be empty until you train or evaluate the model.\n"
          ]
        },
        {
          "metadata": {
            "tags": null
          },
          "name": "stdout",
          "output_type": "stream",
          "text": [
            "epoch -> [68/1500], discriminator_loss_for_real_data = 0.001513, discriminator_loss_for_fake_data = 0.004884, generator_loss = 31.812158\n",
            "\n"
          ]
        },
        {
          "metadata": {
            "tags": null
          },
          "name": "stderr",
          "output_type": "stream",
          "text": [
            "WARNING:tensorflow:Compiled the loaded model, but the compiled metrics have yet to be built. `model.compile_metrics` will be empty until you train or evaluate the model.\n"
          ]
        },
        {
          "metadata": {
            "tags": null
          },
          "name": "stdout",
          "output_type": "stream",
          "text": [
            "epoch -> [69/1500], discriminator_loss_for_real_data = 0.001181, discriminator_loss_for_fake_data = 0.003777, generator_loss = 31.906979\n",
            "\n"
          ]
        },
        {
          "metadata": {
            "tags": null
          },
          "name": "stderr",
          "output_type": "stream",
          "text": [
            "WARNING:tensorflow:Compiled the loaded model, but the compiled metrics have yet to be built. `model.compile_metrics` will be empty until you train or evaluate the model.\n"
          ]
        },
        {
          "metadata": {
            "tags": null
          },
          "name": "stdout",
          "output_type": "stream",
          "text": [
            "epoch -> [70/1500], discriminator_loss_for_real_data = 0.000979, discriminator_loss_for_fake_data = 0.002888, generator_loss = 31.960862\n",
            "\n"
          ]
        },
        {
          "metadata": {
            "tags": null
          },
          "name": "stderr",
          "output_type": "stream",
          "text": [
            "WARNING:tensorflow:Compiled the loaded model, but the compiled metrics have yet to be built. `model.compile_metrics` will be empty until you train or evaluate the model.\n"
          ]
        },
        {
          "metadata": {
            "tags": null
          },
          "name": "stdout",
          "output_type": "stream",
          "text": [
            "epoch -> [71/1500], discriminator_loss_for_real_data = 0.000817, discriminator_loss_for_fake_data = 0.002256, generator_loss = 31.801770\n",
            "\n"
          ]
        },
        {
          "metadata": {
            "tags": null
          },
          "name": "stderr",
          "output_type": "stream",
          "text": [
            "WARNING:tensorflow:Compiled the loaded model, but the compiled metrics have yet to be built. `model.compile_metrics` will be empty until you train or evaluate the model.\n"
          ]
        },
        {
          "metadata": {
            "tags": null
          },
          "name": "stdout",
          "output_type": "stream",
          "text": [
            "epoch -> [72/1500], discriminator_loss_for_real_data = 0.000685, discriminator_loss_for_fake_data = 0.001935, generator_loss = 31.867217\n",
            "\n"
          ]
        },
        {
          "metadata": {
            "tags": null
          },
          "name": "stderr",
          "output_type": "stream",
          "text": [
            "WARNING:tensorflow:Compiled the loaded model, but the compiled metrics have yet to be built. `model.compile_metrics` will be empty until you train or evaluate the model.\n"
          ]
        },
        {
          "metadata": {
            "tags": null
          },
          "name": "stdout",
          "output_type": "stream",
          "text": [
            "epoch -> [73/1500], discriminator_loss_for_real_data = 0.000581, discriminator_loss_for_fake_data = 0.001678, generator_loss = 31.858117\n",
            "\n"
          ]
        },
        {
          "metadata": {
            "tags": null
          },
          "name": "stderr",
          "output_type": "stream",
          "text": [
            "WARNING:tensorflow:Compiled the loaded model, but the compiled metrics have yet to be built. `model.compile_metrics` will be empty until you train or evaluate the model.\n"
          ]
        },
        {
          "metadata": {
            "tags": null
          },
          "name": "stdout",
          "output_type": "stream",
          "text": [
            "epoch -> [74/1500], discriminator_loss_for_real_data = 0.000495, discriminator_loss_for_fake_data = 0.001461, generator_loss = 31.804175\n",
            "\n"
          ]
        },
        {
          "metadata": {
            "tags": null
          },
          "name": "stderr",
          "output_type": "stream",
          "text": [
            "WARNING:tensorflow:Compiled the loaded model, but the compiled metrics have yet to be built. `model.compile_metrics` will be empty until you train or evaluate the model.\n"
          ]
        },
        {
          "metadata": {
            "tags": null
          },
          "name": "stdout",
          "output_type": "stream",
          "text": [
            "epoch -> [75/1500], discriminator_loss_for_real_data = 0.000453, discriminator_loss_for_fake_data = 0.001234, generator_loss = 31.868007\n",
            "\n"
          ]
        },
        {
          "metadata": {
            "tags": null
          },
          "name": "stderr",
          "output_type": "stream",
          "text": [
            "WARNING:tensorflow:Compiled the loaded model, but the compiled metrics have yet to be built. `model.compile_metrics` will be empty until you train or evaluate the model.\n"
          ]
        },
        {
          "metadata": {
            "tags": null
          },
          "name": "stdout",
          "output_type": "stream",
          "text": [
            "epoch -> [76/1500], discriminator_loss_for_real_data = 0.000375, discriminator_loss_for_fake_data = 0.000996, generator_loss = 31.633466\n",
            "\n"
          ]
        },
        {
          "metadata": {
            "tags": null
          },
          "name": "stderr",
          "output_type": "stream",
          "text": [
            "WARNING:tensorflow:Compiled the loaded model, but the compiled metrics have yet to be built. `model.compile_metrics` will be empty until you train or evaluate the model.\n"
          ]
        },
        {
          "metadata": {
            "tags": null
          },
          "name": "stdout",
          "output_type": "stream",
          "text": [
            "epoch -> [77/1500], discriminator_loss_for_real_data = 0.000290, discriminator_loss_for_fake_data = 0.000848, generator_loss = 31.703905\n",
            "\n"
          ]
        },
        {
          "metadata": {
            "tags": null
          },
          "name": "stderr",
          "output_type": "stream",
          "text": [
            "WARNING:tensorflow:Compiled the loaded model, but the compiled metrics have yet to be built. `model.compile_metrics` will be empty until you train or evaluate the model.\n"
          ]
        },
        {
          "metadata": {
            "tags": null
          },
          "name": "stdout",
          "output_type": "stream",
          "text": [
            "epoch -> [78/1500], discriminator_loss_for_real_data = 0.000243, discriminator_loss_for_fake_data = 0.000734, generator_loss = 31.832760\n",
            "\n"
          ]
        },
        {
          "metadata": {
            "tags": null
          },
          "name": "stderr",
          "output_type": "stream",
          "text": [
            "WARNING:tensorflow:Compiled the loaded model, but the compiled metrics have yet to be built. `model.compile_metrics` will be empty until you train or evaluate the model.\n"
          ]
        },
        {
          "metadata": {
            "tags": null
          },
          "name": "stdout",
          "output_type": "stream",
          "text": [
            "epoch -> [79/1500], discriminator_loss_for_real_data = 0.000215, discriminator_loss_for_fake_data = 0.000664, generator_loss = 31.767661\n",
            "\n"
          ]
        },
        {
          "metadata": {
            "tags": null
          },
          "name": "stderr",
          "output_type": "stream",
          "text": [
            "WARNING:tensorflow:Compiled the loaded model, but the compiled metrics have yet to be built. `model.compile_metrics` will be empty until you train or evaluate the model.\n"
          ]
        },
        {
          "metadata": {
            "tags": null
          },
          "name": "stdout",
          "output_type": "stream",
          "text": [
            "epoch -> [80/1500], discriminator_loss_for_real_data = 0.000193, discriminator_loss_for_fake_data = 0.000579, generator_loss = 31.684654\n",
            "\n"
          ]
        },
        {
          "metadata": {
            "tags": null
          },
          "name": "stderr",
          "output_type": "stream",
          "text": [
            "WARNING:tensorflow:Compiled the loaded model, but the compiled metrics have yet to be built. `model.compile_metrics` will be empty until you train or evaluate the model.\n"
          ]
        },
        {
          "metadata": {
            "tags": null
          },
          "name": "stdout",
          "output_type": "stream",
          "text": [
            "epoch -> [81/1500], discriminator_loss_for_real_data = 0.000179, discriminator_loss_for_fake_data = 0.000504, generator_loss = 31.709098\n",
            "\n"
          ]
        },
        {
          "metadata": {
            "tags": null
          },
          "name": "stderr",
          "output_type": "stream",
          "text": [
            "WARNING:tensorflow:Compiled the loaded model, but the compiled metrics have yet to be built. `model.compile_metrics` will be empty until you train or evaluate the model.\n"
          ]
        },
        {
          "metadata": {
            "tags": null
          },
          "name": "stdout",
          "output_type": "stream",
          "text": [
            "epoch -> [82/1500], discriminator_loss_for_real_data = 0.000153, discriminator_loss_for_fake_data = 0.000472, generator_loss = 31.700111\n",
            "\n"
          ]
        },
        {
          "metadata": {
            "tags": null
          },
          "name": "stderr",
          "output_type": "stream",
          "text": [
            "WARNING:tensorflow:Compiled the loaded model, but the compiled metrics have yet to be built. `model.compile_metrics` will be empty until you train or evaluate the model.\n"
          ]
        },
        {
          "metadata": {
            "tags": null
          },
          "name": "stdout",
          "output_type": "stream",
          "text": [
            "epoch -> [83/1500], discriminator_loss_for_real_data = 0.000137, discriminator_loss_for_fake_data = 0.000428, generator_loss = 31.645628\n",
            "\n"
          ]
        },
        {
          "metadata": {
            "tags": null
          },
          "name": "stderr",
          "output_type": "stream",
          "text": [
            "WARNING:tensorflow:Compiled the loaded model, but the compiled metrics have yet to be built. `model.compile_metrics` will be empty until you train or evaluate the model.\n"
          ]
        },
        {
          "metadata": {
            "tags": null
          },
          "name": "stdout",
          "output_type": "stream",
          "text": [
            "epoch -> [84/1500], discriminator_loss_for_real_data = 0.000109, discriminator_loss_for_fake_data = 0.000356, generator_loss = 31.357113\n",
            "\n"
          ]
        },
        {
          "metadata": {
            "tags": null
          },
          "name": "stderr",
          "output_type": "stream",
          "text": [
            "WARNING:tensorflow:Compiled the loaded model, but the compiled metrics have yet to be built. `model.compile_metrics` will be empty until you train or evaluate the model.\n"
          ]
        },
        {
          "metadata": {
            "tags": null
          },
          "name": "stdout",
          "output_type": "stream",
          "text": [
            "epoch -> [85/1500], discriminator_loss_for_real_data = 0.000095, discriminator_loss_for_fake_data = 0.000330, generator_loss = 31.452159\n",
            "\n"
          ]
        },
        {
          "metadata": {
            "tags": null
          },
          "name": "stderr",
          "output_type": "stream",
          "text": [
            "WARNING:tensorflow:Compiled the loaded model, but the compiled metrics have yet to be built. `model.compile_metrics` will be empty until you train or evaluate the model.\n"
          ]
        },
        {
          "metadata": {
            "tags": null
          },
          "name": "stdout",
          "output_type": "stream",
          "text": [
            "epoch -> [86/1500], discriminator_loss_for_real_data = 0.000082, discriminator_loss_for_fake_data = 0.000305, generator_loss = 31.579439\n",
            "\n"
          ]
        },
        {
          "metadata": {
            "tags": null
          },
          "name": "stderr",
          "output_type": "stream",
          "text": [
            "WARNING:tensorflow:Compiled the loaded model, but the compiled metrics have yet to be built. `model.compile_metrics` will be empty until you train or evaluate the model.\n"
          ]
        },
        {
          "metadata": {
            "tags": null
          },
          "name": "stdout",
          "output_type": "stream",
          "text": [
            "epoch -> [87/1500], discriminator_loss_for_real_data = 0.000074, discriminator_loss_for_fake_data = 0.000301, generator_loss = 31.427560\n",
            "\n"
          ]
        },
        {
          "metadata": {
            "tags": null
          },
          "name": "stderr",
          "output_type": "stream",
          "text": [
            "WARNING:tensorflow:Compiled the loaded model, but the compiled metrics have yet to be built. `model.compile_metrics` will be empty until you train or evaluate the model.\n"
          ]
        },
        {
          "metadata": {
            "tags": null
          },
          "name": "stdout",
          "output_type": "stream",
          "text": [
            "epoch -> [88/1500], discriminator_loss_for_real_data = 0.000070, discriminator_loss_for_fake_data = 0.000276, generator_loss = 31.405109\n",
            "\n"
          ]
        },
        {
          "metadata": {
            "tags": null
          },
          "name": "stderr",
          "output_type": "stream",
          "text": [
            "WARNING:tensorflow:Compiled the loaded model, but the compiled metrics have yet to be built. `model.compile_metrics` will be empty until you train or evaluate the model.\n"
          ]
        },
        {
          "metadata": {
            "tags": null
          },
          "name": "stdout",
          "output_type": "stream",
          "text": [
            "epoch -> [89/1500], discriminator_loss_for_real_data = 0.000066, discriminator_loss_for_fake_data = 0.000224, generator_loss = 31.355539\n",
            "\n"
          ]
        },
        {
          "metadata": {
            "tags": null
          },
          "name": "stderr",
          "output_type": "stream",
          "text": [
            "WARNING:tensorflow:Compiled the loaded model, but the compiled metrics have yet to be built. `model.compile_metrics` will be empty until you train or evaluate the model.\n"
          ]
        },
        {
          "metadata": {
            "tags": null
          },
          "name": "stdout",
          "output_type": "stream",
          "text": [
            "epoch -> [90/1500], discriminator_loss_for_real_data = 0.000060, discriminator_loss_for_fake_data = 0.000196, generator_loss = 31.322515\n",
            "\n"
          ]
        },
        {
          "metadata": {
            "tags": null
          },
          "name": "stderr",
          "output_type": "stream",
          "text": [
            "WARNING:tensorflow:Compiled the loaded model, but the compiled metrics have yet to be built. `model.compile_metrics` will be empty until you train or evaluate the model.\n"
          ]
        },
        {
          "metadata": {
            "tags": null
          },
          "name": "stdout",
          "output_type": "stream",
          "text": [
            "epoch -> [91/1500], discriminator_loss_for_real_data = 0.000054, discriminator_loss_for_fake_data = 0.000167, generator_loss = 31.334094\n",
            "\n"
          ]
        },
        {
          "metadata": {
            "tags": null
          },
          "name": "stderr",
          "output_type": "stream",
          "text": [
            "WARNING:tensorflow:Compiled the loaded model, but the compiled metrics have yet to be built. `model.compile_metrics` will be empty until you train or evaluate the model.\n"
          ]
        },
        {
          "metadata": {
            "tags": null
          },
          "name": "stdout",
          "output_type": "stream",
          "text": [
            "epoch -> [92/1500], discriminator_loss_for_real_data = 0.000048, discriminator_loss_for_fake_data = 0.000147, generator_loss = 31.119890\n",
            "\n"
          ]
        },
        {
          "metadata": {
            "tags": null
          },
          "name": "stderr",
          "output_type": "stream",
          "text": [
            "WARNING:tensorflow:Compiled the loaded model, but the compiled metrics have yet to be built. `model.compile_metrics` will be empty until you train or evaluate the model.\n"
          ]
        },
        {
          "metadata": {
            "tags": null
          },
          "name": "stdout",
          "output_type": "stream",
          "text": [
            "epoch -> [93/1500], discriminator_loss_for_real_data = 0.000042, discriminator_loss_for_fake_data = 0.000129, generator_loss = 31.200935\n",
            "\n"
          ]
        },
        {
          "metadata": {
            "tags": null
          },
          "name": "stderr",
          "output_type": "stream",
          "text": [
            "WARNING:tensorflow:Compiled the loaded model, but the compiled metrics have yet to be built. `model.compile_metrics` will be empty until you train or evaluate the model.\n"
          ]
        },
        {
          "metadata": {
            "tags": null
          },
          "name": "stdout",
          "output_type": "stream",
          "text": [
            "epoch -> [94/1500], discriminator_loss_for_real_data = 0.000035, discriminator_loss_for_fake_data = 0.000124, generator_loss = 31.367661\n",
            "\n"
          ]
        },
        {
          "metadata": {
            "tags": null
          },
          "name": "stderr",
          "output_type": "stream",
          "text": [
            "WARNING:tensorflow:Compiled the loaded model, but the compiled metrics have yet to be built. `model.compile_metrics` will be empty until you train or evaluate the model.\n"
          ]
        },
        {
          "metadata": {
            "tags": null
          },
          "name": "stdout",
          "output_type": "stream",
          "text": [
            "epoch -> [95/1500], discriminator_loss_for_real_data = 0.000032, discriminator_loss_for_fake_data = 0.000113, generator_loss = 31.182636\n",
            "\n"
          ]
        },
        {
          "metadata": {
            "tags": null
          },
          "name": "stderr",
          "output_type": "stream",
          "text": [
            "WARNING:tensorflow:Compiled the loaded model, but the compiled metrics have yet to be built. `model.compile_metrics` will be empty until you train or evaluate the model.\n"
          ]
        },
        {
          "metadata": {
            "tags": null
          },
          "name": "stdout",
          "output_type": "stream",
          "text": [
            "epoch -> [96/1500], discriminator_loss_for_real_data = 0.000029, discriminator_loss_for_fake_data = 0.000095, generator_loss = 31.176902\n",
            "\n"
          ]
        },
        {
          "metadata": {
            "tags": null
          },
          "name": "stderr",
          "output_type": "stream",
          "text": [
            "WARNING:tensorflow:Compiled the loaded model, but the compiled metrics have yet to be built. `model.compile_metrics` will be empty until you train or evaluate the model.\n"
          ]
        },
        {
          "metadata": {
            "tags": null
          },
          "name": "stdout",
          "output_type": "stream",
          "text": [
            "epoch -> [97/1500], discriminator_loss_for_real_data = 0.000026, discriminator_loss_for_fake_data = 0.000087, generator_loss = 31.194927\n",
            "\n"
          ]
        },
        {
          "metadata": {
            "tags": null
          },
          "name": "stderr",
          "output_type": "stream",
          "text": [
            "WARNING:tensorflow:Compiled the loaded model, but the compiled metrics have yet to be built. `model.compile_metrics` will be empty until you train or evaluate the model.\n"
          ]
        },
        {
          "metadata": {
            "tags": null
          },
          "name": "stdout",
          "output_type": "stream",
          "text": [
            "epoch -> [98/1500], discriminator_loss_for_real_data = 0.000023, discriminator_loss_for_fake_data = 0.000080, generator_loss = 31.029429\n",
            "\n"
          ]
        },
        {
          "metadata": {
            "tags": null
          },
          "name": "stderr",
          "output_type": "stream",
          "text": [
            "WARNING:tensorflow:Compiled the loaded model, but the compiled metrics have yet to be built. `model.compile_metrics` will be empty until you train or evaluate the model.\n"
          ]
        },
        {
          "metadata": {
            "tags": null
          },
          "name": "stdout",
          "output_type": "stream",
          "text": [
            "epoch -> [99/1500], discriminator_loss_for_real_data = 0.000021, discriminator_loss_for_fake_data = 0.000063, generator_loss = 31.051327\n",
            "\n"
          ]
        },
        {
          "metadata": {
            "tags": null
          },
          "name": "stderr",
          "output_type": "stream",
          "text": [
            "WARNING:tensorflow:Compiled the loaded model, but the compiled metrics have yet to be built. `model.compile_metrics` will be empty until you train or evaluate the model.\n"
          ]
        },
        {
          "metadata": {
            "tags": null
          },
          "name": "stdout",
          "output_type": "stream",
          "text": [
            "epoch -> [100/1500], discriminator_loss_for_real_data = 0.000018, discriminator_loss_for_fake_data = 0.000056, generator_loss = 30.895776\n",
            "\n"
          ]
        },
        {
          "metadata": {
            "tags": null
          },
          "name": "stderr",
          "output_type": "stream",
          "text": [
            "WARNING:tensorflow:Compiled the loaded model, but the compiled metrics have yet to be built. `model.compile_metrics` will be empty until you train or evaluate the model.\n"
          ]
        },
        {
          "metadata": {
            "tags": null
          },
          "name": "stdout",
          "output_type": "stream",
          "text": [
            "epoch -> [101/1500], discriminator_loss_for_real_data = 0.000016, discriminator_loss_for_fake_data = 0.000053, generator_loss = 30.830940\n",
            "\n"
          ]
        },
        {
          "metadata": {
            "tags": null
          },
          "name": "stderr",
          "output_type": "stream",
          "text": [
            "WARNING:tensorflow:Compiled the loaded model, but the compiled metrics have yet to be built. `model.compile_metrics` will be empty until you train or evaluate the model.\n"
          ]
        },
        {
          "metadata": {
            "tags": null
          },
          "name": "stdout",
          "output_type": "stream",
          "text": [
            "epoch -> [102/1500], discriminator_loss_for_real_data = 0.000015, discriminator_loss_for_fake_data = 0.000051, generator_loss = 30.891670\n",
            "\n"
          ]
        },
        {
          "metadata": {
            "tags": null
          },
          "name": "stderr",
          "output_type": "stream",
          "text": [
            "WARNING:tensorflow:Compiled the loaded model, but the compiled metrics have yet to be built. `model.compile_metrics` will be empty until you train or evaluate the model.\n"
          ]
        },
        {
          "metadata": {
            "tags": null
          },
          "name": "stdout",
          "output_type": "stream",
          "text": [
            "epoch -> [103/1500], discriminator_loss_for_real_data = 0.000014, discriminator_loss_for_fake_data = 0.000051, generator_loss = 30.976342\n",
            "\n"
          ]
        },
        {
          "metadata": {
            "tags": null
          },
          "name": "stderr",
          "output_type": "stream",
          "text": [
            "WARNING:tensorflow:Compiled the loaded model, but the compiled metrics have yet to be built. `model.compile_metrics` will be empty until you train or evaluate the model.\n"
          ]
        },
        {
          "metadata": {
            "tags": null
          },
          "name": "stdout",
          "output_type": "stream",
          "text": [
            "epoch -> [104/1500], discriminator_loss_for_real_data = 0.000013, discriminator_loss_for_fake_data = 0.000046, generator_loss = 30.772029\n",
            "\n"
          ]
        },
        {
          "metadata": {
            "tags": null
          },
          "name": "stderr",
          "output_type": "stream",
          "text": [
            "WARNING:tensorflow:Compiled the loaded model, but the compiled metrics have yet to be built. `model.compile_metrics` will be empty until you train or evaluate the model.\n"
          ]
        },
        {
          "metadata": {
            "tags": null
          },
          "name": "stdout",
          "output_type": "stream",
          "text": [
            "epoch -> [105/1500], discriminator_loss_for_real_data = 0.000011, discriminator_loss_for_fake_data = 0.000038, generator_loss = 30.717819\n",
            "\n"
          ]
        },
        {
          "metadata": {
            "tags": null
          },
          "name": "stderr",
          "output_type": "stream",
          "text": [
            "WARNING:tensorflow:Compiled the loaded model, but the compiled metrics have yet to be built. `model.compile_metrics` will be empty until you train or evaluate the model.\n"
          ]
        },
        {
          "metadata": {
            "tags": null
          },
          "name": "stdout",
          "output_type": "stream",
          "text": [
            "epoch -> [106/1500], discriminator_loss_for_real_data = 0.000010, discriminator_loss_for_fake_data = 0.000033, generator_loss = 30.566005\n",
            "\n"
          ]
        },
        {
          "metadata": {
            "tags": null
          },
          "name": "stderr",
          "output_type": "stream",
          "text": [
            "WARNING:tensorflow:Compiled the loaded model, but the compiled metrics have yet to be built. `model.compile_metrics` will be empty until you train or evaluate the model.\n"
          ]
        },
        {
          "metadata": {
            "tags": null
          },
          "name": "stdout",
          "output_type": "stream",
          "text": [
            "epoch -> [107/1500], discriminator_loss_for_real_data = 0.000009, discriminator_loss_for_fake_data = 0.000028, generator_loss = 30.876321\n",
            "\n"
          ]
        },
        {
          "metadata": {
            "tags": null
          },
          "name": "stderr",
          "output_type": "stream",
          "text": [
            "WARNING:tensorflow:Compiled the loaded model, but the compiled metrics have yet to be built. `model.compile_metrics` will be empty until you train or evaluate the model.\n"
          ]
        },
        {
          "metadata": {
            "tags": null
          },
          "name": "stdout",
          "output_type": "stream",
          "text": [
            "epoch -> [108/1500], discriminator_loss_for_real_data = 0.000008, discriminator_loss_for_fake_data = 0.000027, generator_loss = 30.610024\n",
            "\n"
          ]
        },
        {
          "metadata": {
            "tags": null
          },
          "name": "stderr",
          "output_type": "stream",
          "text": [
            "WARNING:tensorflow:Compiled the loaded model, but the compiled metrics have yet to be built. `model.compile_metrics` will be empty until you train or evaluate the model.\n"
          ]
        },
        {
          "metadata": {
            "tags": null
          },
          "name": "stdout",
          "output_type": "stream",
          "text": [
            "epoch -> [109/1500], discriminator_loss_for_real_data = 0.000007, discriminator_loss_for_fake_data = 0.000026, generator_loss = 30.785724\n",
            "\n"
          ]
        },
        {
          "metadata": {
            "tags": null
          },
          "name": "stderr",
          "output_type": "stream",
          "text": [
            "WARNING:tensorflow:Compiled the loaded model, but the compiled metrics have yet to be built. `model.compile_metrics` will be empty until you train or evaluate the model.\n"
          ]
        },
        {
          "metadata": {
            "tags": null
          },
          "name": "stdout",
          "output_type": "stream",
          "text": [
            "epoch -> [110/1500], discriminator_loss_for_real_data = 0.000007, discriminator_loss_for_fake_data = 0.000024, generator_loss = 30.714387\n",
            "\n"
          ]
        },
        {
          "metadata": {
            "tags": null
          },
          "name": "stderr",
          "output_type": "stream",
          "text": [
            "WARNING:tensorflow:Compiled the loaded model, but the compiled metrics have yet to be built. `model.compile_metrics` will be empty until you train or evaluate the model.\n"
          ]
        },
        {
          "metadata": {
            "tags": null
          },
          "name": "stdout",
          "output_type": "stream",
          "text": [
            "epoch -> [111/1500], discriminator_loss_for_real_data = 0.000006, discriminator_loss_for_fake_data = 0.000022, generator_loss = 30.722893\n",
            "\n"
          ]
        },
        {
          "metadata": {
            "tags": null
          },
          "name": "stderr",
          "output_type": "stream",
          "text": [
            "WARNING:tensorflow:Compiled the loaded model, but the compiled metrics have yet to be built. `model.compile_metrics` will be empty until you train or evaluate the model.\n"
          ]
        },
        {
          "metadata": {
            "tags": null
          },
          "name": "stdout",
          "output_type": "stream",
          "text": [
            "epoch -> [112/1500], discriminator_loss_for_real_data = 0.000006, discriminator_loss_for_fake_data = 0.000020, generator_loss = 30.531165\n",
            "\n"
          ]
        },
        {
          "metadata": {
            "tags": null
          },
          "name": "stderr",
          "output_type": "stream",
          "text": [
            "WARNING:tensorflow:Compiled the loaded model, but the compiled metrics have yet to be built. `model.compile_metrics` will be empty until you train or evaluate the model.\n"
          ]
        },
        {
          "metadata": {
            "tags": null
          },
          "name": "stdout",
          "output_type": "stream",
          "text": [
            "epoch -> [113/1500], discriminator_loss_for_real_data = 0.000005, discriminator_loss_for_fake_data = 0.000018, generator_loss = 30.412532\n",
            "\n"
          ]
        },
        {
          "metadata": {
            "tags": null
          },
          "name": "stderr",
          "output_type": "stream",
          "text": [
            "WARNING:tensorflow:Compiled the loaded model, but the compiled metrics have yet to be built. `model.compile_metrics` will be empty until you train or evaluate the model.\n"
          ]
        },
        {
          "metadata": {
            "tags": null
          },
          "name": "stdout",
          "output_type": "stream",
          "text": [
            "epoch -> [114/1500], discriminator_loss_for_real_data = 0.000005, discriminator_loss_for_fake_data = 0.000016, generator_loss = 30.432017\n",
            "\n"
          ]
        },
        {
          "metadata": {
            "tags": null
          },
          "name": "stderr",
          "output_type": "stream",
          "text": [
            "WARNING:tensorflow:Compiled the loaded model, but the compiled metrics have yet to be built. `model.compile_metrics` will be empty until you train or evaluate the model.\n"
          ]
        },
        {
          "metadata": {
            "tags": null
          },
          "name": "stdout",
          "output_type": "stream",
          "text": [
            "epoch -> [115/1500], discriminator_loss_for_real_data = 0.000004, discriminator_loss_for_fake_data = 0.000014, generator_loss = 30.587721\n",
            "\n"
          ]
        },
        {
          "metadata": {
            "tags": null
          },
          "name": "stderr",
          "output_type": "stream",
          "text": [
            "WARNING:tensorflow:Compiled the loaded model, but the compiled metrics have yet to be built. `model.compile_metrics` will be empty until you train or evaluate the model.\n"
          ]
        },
        {
          "metadata": {
            "tags": null
          },
          "name": "stdout",
          "output_type": "stream",
          "text": [
            "epoch -> [116/1500], discriminator_loss_for_real_data = 0.000004, discriminator_loss_for_fake_data = 0.000013, generator_loss = 30.484846\n",
            "\n"
          ]
        },
        {
          "metadata": {
            "tags": null
          },
          "name": "stderr",
          "output_type": "stream",
          "text": [
            "WARNING:tensorflow:Compiled the loaded model, but the compiled metrics have yet to be built. `model.compile_metrics` will be empty until you train or evaluate the model.\n"
          ]
        },
        {
          "metadata": {
            "tags": null
          },
          "name": "stdout",
          "output_type": "stream",
          "text": [
            "epoch -> [117/1500], discriminator_loss_for_real_data = 0.000003, discriminator_loss_for_fake_data = 0.000011, generator_loss = 30.612186\n",
            "\n"
          ]
        },
        {
          "metadata": {
            "tags": null
          },
          "name": "stderr",
          "output_type": "stream",
          "text": [
            "WARNING:tensorflow:Compiled the loaded model, but the compiled metrics have yet to be built. `model.compile_metrics` will be empty until you train or evaluate the model.\n"
          ]
        },
        {
          "metadata": {
            "tags": null
          },
          "name": "stdout",
          "output_type": "stream",
          "text": [
            "epoch -> [118/1500], discriminator_loss_for_real_data = 0.000003, discriminator_loss_for_fake_data = 0.000010, generator_loss = 30.370966\n",
            "\n"
          ]
        },
        {
          "metadata": {
            "tags": null
          },
          "name": "stderr",
          "output_type": "stream",
          "text": [
            "WARNING:tensorflow:Compiled the loaded model, but the compiled metrics have yet to be built. `model.compile_metrics` will be empty until you train or evaluate the model.\n"
          ]
        },
        {
          "metadata": {
            "tags": null
          },
          "name": "stdout",
          "output_type": "stream",
          "text": [
            "epoch -> [119/1500], discriminator_loss_for_real_data = 0.000002, discriminator_loss_for_fake_data = 0.000009, generator_loss = 30.466036\n",
            "\n"
          ]
        },
        {
          "metadata": {
            "tags": null
          },
          "name": "stderr",
          "output_type": "stream",
          "text": [
            "WARNING:tensorflow:Compiled the loaded model, but the compiled metrics have yet to be built. `model.compile_metrics` will be empty until you train or evaluate the model.\n"
          ]
        },
        {
          "metadata": {
            "tags": null
          },
          "name": "stdout",
          "output_type": "stream",
          "text": [
            "epoch -> [120/1500], discriminator_loss_for_real_data = 0.000002, discriminator_loss_for_fake_data = 0.000008, generator_loss = 30.593083\n",
            "\n"
          ]
        },
        {
          "metadata": {
            "tags": null
          },
          "name": "stderr",
          "output_type": "stream",
          "text": [
            "WARNING:tensorflow:Compiled the loaded model, but the compiled metrics have yet to be built. `model.compile_metrics` will be empty until you train or evaluate the model.\n"
          ]
        },
        {
          "metadata": {
            "tags": null
          },
          "name": "stdout",
          "output_type": "stream",
          "text": [
            "epoch -> [121/1500], discriminator_loss_for_real_data = 0.000002, discriminator_loss_for_fake_data = 0.000007, generator_loss = 30.395651\n",
            "\n"
          ]
        },
        {
          "metadata": {
            "tags": null
          },
          "name": "stderr",
          "output_type": "stream",
          "text": [
            "WARNING:tensorflow:Compiled the loaded model, but the compiled metrics have yet to be built. `model.compile_metrics` will be empty until you train or evaluate the model.\n"
          ]
        },
        {
          "metadata": {
            "tags": null
          },
          "name": "stdout",
          "output_type": "stream",
          "text": [
            "epoch -> [122/1500], discriminator_loss_for_real_data = 0.000002, discriminator_loss_for_fake_data = 0.000007, generator_loss = 30.556056\n",
            "\n"
          ]
        },
        {
          "metadata": {
            "tags": null
          },
          "name": "stderr",
          "output_type": "stream",
          "text": [
            "WARNING:tensorflow:Compiled the loaded model, but the compiled metrics have yet to be built. `model.compile_metrics` will be empty until you train or evaluate the model.\n"
          ]
        },
        {
          "metadata": {
            "tags": null
          },
          "name": "stdout",
          "output_type": "stream",
          "text": [
            "epoch -> [123/1500], discriminator_loss_for_real_data = 0.000002, discriminator_loss_for_fake_data = 0.000007, generator_loss = 30.309092\n",
            "\n"
          ]
        },
        {
          "metadata": {
            "tags": null
          },
          "name": "stderr",
          "output_type": "stream",
          "text": [
            "WARNING:tensorflow:Compiled the loaded model, but the compiled metrics have yet to be built. `model.compile_metrics` will be empty until you train or evaluate the model.\n"
          ]
        },
        {
          "metadata": {
            "tags": null
          },
          "name": "stdout",
          "output_type": "stream",
          "text": [
            "epoch -> [124/1500], discriminator_loss_for_real_data = 0.000002, discriminator_loss_for_fake_data = 0.000007, generator_loss = 30.301786\n",
            "\n"
          ]
        },
        {
          "metadata": {
            "tags": null
          },
          "name": "stderr",
          "output_type": "stream",
          "text": [
            "WARNING:tensorflow:Compiled the loaded model, but the compiled metrics have yet to be built. `model.compile_metrics` will be empty until you train or evaluate the model.\n"
          ]
        },
        {
          "metadata": {
            "tags": null
          },
          "name": "stdout",
          "output_type": "stream",
          "text": [
            "epoch -> [125/1500], discriminator_loss_for_real_data = 0.041610, discriminator_loss_for_fake_data = 0.188088, generator_loss = 29.933701\n",
            "\n"
          ]
        },
        {
          "metadata": {
            "tags": null
          },
          "name": "stderr",
          "output_type": "stream",
          "text": [
            "WARNING:tensorflow:Compiled the loaded model, but the compiled metrics have yet to be built. `model.compile_metrics` will be empty until you train or evaluate the model.\n"
          ]
        },
        {
          "metadata": {
            "tags": null
          },
          "name": "stdout",
          "output_type": "stream",
          "text": [
            "epoch -> [126/1500], discriminator_loss_for_real_data = 0.009823, discriminator_loss_for_fake_data = 0.015708, generator_loss = 29.418940\n",
            "\n"
          ]
        },
        {
          "metadata": {
            "tags": null
          },
          "name": "stderr",
          "output_type": "stream",
          "text": [
            "WARNING:tensorflow:Compiled the loaded model, but the compiled metrics have yet to be built. `model.compile_metrics` will be empty until you train or evaluate the model.\n"
          ]
        },
        {
          "metadata": {
            "tags": null
          },
          "name": "stdout",
          "output_type": "stream",
          "text": [
            "epoch -> [127/1500], discriminator_loss_for_real_data = 0.005366, discriminator_loss_for_fake_data = 0.010123, generator_loss = 29.488757\n",
            "\n"
          ]
        },
        {
          "metadata": {
            "tags": null
          },
          "name": "stderr",
          "output_type": "stream",
          "text": [
            "WARNING:tensorflow:Compiled the loaded model, but the compiled metrics have yet to be built. `model.compile_metrics` will be empty until you train or evaluate the model.\n"
          ]
        },
        {
          "metadata": {
            "tags": null
          },
          "name": "stdout",
          "output_type": "stream",
          "text": [
            "epoch -> [128/1500], discriminator_loss_for_real_data = 0.003363, discriminator_loss_for_fake_data = 0.007218, generator_loss = 29.593213\n",
            "\n"
          ]
        },
        {
          "metadata": {
            "tags": null
          },
          "name": "stderr",
          "output_type": "stream",
          "text": [
            "WARNING:tensorflow:Compiled the loaded model, but the compiled metrics have yet to be built. `model.compile_metrics` will be empty until you train or evaluate the model.\n"
          ]
        },
        {
          "metadata": {
            "tags": null
          },
          "name": "stdout",
          "output_type": "stream",
          "text": [
            "epoch -> [129/1500], discriminator_loss_for_real_data = 0.002225, discriminator_loss_for_fake_data = 0.004809, generator_loss = 29.652043\n",
            "\n"
          ]
        },
        {
          "metadata": {
            "tags": null
          },
          "name": "stderr",
          "output_type": "stream",
          "text": [
            "WARNING:tensorflow:Compiled the loaded model, but the compiled metrics have yet to be built. `model.compile_metrics` will be empty until you train or evaluate the model.\n"
          ]
        },
        {
          "output_type": "stream",
          "name": "stdout",
          "text": [
            "epoch -> [130/1500], discriminator_loss_for_real_data = 0.001699, discriminator_loss_for_fake_data = 0.003393, generator_loss = 29.715427\n",
            "\n"
          ]
        },
        {
          "output_type": "stream",
          "name": "stderr",
          "text": [
            "WARNING:tensorflow:Compiled the loaded model, but the compiled metrics have yet to be built. `model.compile_metrics` will be empty until you train or evaluate the model.\n"
          ]
        },
        {
          "output_type": "stream",
          "name": "stdout",
          "text": [
            "epoch -> [131/1500], discriminator_loss_for_real_data = 0.001634, discriminator_loss_for_fake_data = 0.002882, generator_loss = 29.849998\n",
            "\n"
          ]
        },
        {
          "output_type": "stream",
          "name": "stderr",
          "text": [
            "WARNING:tensorflow:Compiled the loaded model, but the compiled metrics have yet to be built. `model.compile_metrics` will be empty until you train or evaluate the model.\n"
          ]
        },
        {
          "output_type": "stream",
          "name": "stdout",
          "text": [
            "epoch -> [132/1500], discriminator_loss_for_real_data = 0.001402, discriminator_loss_for_fake_data = 0.002344, generator_loss = 29.760874\n",
            "\n"
          ]
        },
        {
          "output_type": "stream",
          "name": "stderr",
          "text": [
            "WARNING:tensorflow:Compiled the loaded model, but the compiled metrics have yet to be built. `model.compile_metrics` will be empty until you train or evaluate the model.\n"
          ]
        },
        {
          "output_type": "stream",
          "name": "stdout",
          "text": [
            "epoch -> [133/1500], discriminator_loss_for_real_data = 0.001267, discriminator_loss_for_fake_data = 0.001944, generator_loss = 29.537124\n",
            "\n"
          ]
        },
        {
          "output_type": "stream",
          "name": "stderr",
          "text": [
            "WARNING:tensorflow:Compiled the loaded model, but the compiled metrics have yet to be built. `model.compile_metrics` will be empty until you train or evaluate the model.\n"
          ]
        },
        {
          "output_type": "stream",
          "name": "stdout",
          "text": [
            "epoch -> [134/1500], discriminator_loss_for_real_data = 0.001101, discriminator_loss_for_fake_data = 0.001702, generator_loss = 29.690449\n",
            "\n"
          ]
        },
        {
          "output_type": "stream",
          "name": "stderr",
          "text": [
            "WARNING:tensorflow:Compiled the loaded model, but the compiled metrics have yet to be built. `model.compile_metrics` will be empty until you train or evaluate the model.\n"
          ]
        },
        {
          "output_type": "stream",
          "name": "stdout",
          "text": [
            "epoch -> [135/1500], discriminator_loss_for_real_data = 0.000918, discriminator_loss_for_fake_data = 0.001334, generator_loss = 29.621491\n",
            "\n"
          ]
        },
        {
          "output_type": "stream",
          "name": "stderr",
          "text": [
            "WARNING:tensorflow:Compiled the loaded model, but the compiled metrics have yet to be built. `model.compile_metrics` will be empty until you train or evaluate the model.\n"
          ]
        },
        {
          "output_type": "stream",
          "name": "stdout",
          "text": [
            "epoch -> [136/1500], discriminator_loss_for_real_data = 0.000786, discriminator_loss_for_fake_data = 0.001114, generator_loss = 29.800403\n",
            "\n"
          ]
        },
        {
          "output_type": "stream",
          "name": "stderr",
          "text": [
            "WARNING:tensorflow:Compiled the loaded model, but the compiled metrics have yet to be built. `model.compile_metrics` will be empty until you train or evaluate the model.\n"
          ]
        },
        {
          "output_type": "stream",
          "name": "stdout",
          "text": [
            "epoch -> [137/1500], discriminator_loss_for_real_data = 0.000709, discriminator_loss_for_fake_data = 0.000947, generator_loss = 29.603156\n",
            "\n"
          ]
        },
        {
          "output_type": "stream",
          "name": "stderr",
          "text": [
            "WARNING:tensorflow:Compiled the loaded model, but the compiled metrics have yet to be built. `model.compile_metrics` will be empty until you train or evaluate the model.\n"
          ]
        },
        {
          "output_type": "stream",
          "name": "stdout",
          "text": [
            "epoch -> [138/1500], discriminator_loss_for_real_data = 0.000662, discriminator_loss_for_fake_data = 0.000814, generator_loss = 29.733000\n",
            "\n"
          ]
        },
        {
          "output_type": "stream",
          "name": "stderr",
          "text": [
            "WARNING:tensorflow:Compiled the loaded model, but the compiled metrics have yet to be built. `model.compile_metrics` will be empty until you train or evaluate the model.\n"
          ]
        },
        {
          "output_type": "stream",
          "name": "stdout",
          "text": [
            "epoch -> [139/1500], discriminator_loss_for_real_data = 0.000625, discriminator_loss_for_fake_data = 0.000756, generator_loss = 29.682559\n",
            "\n"
          ]
        },
        {
          "output_type": "stream",
          "name": "stderr",
          "text": [
            "WARNING:tensorflow:Compiled the loaded model, but the compiled metrics have yet to be built. `model.compile_metrics` will be empty until you train or evaluate the model.\n"
          ]
        },
        {
          "output_type": "stream",
          "name": "stdout",
          "text": [
            "epoch -> [140/1500], discriminator_loss_for_real_data = 0.000545, discriminator_loss_for_fake_data = 0.000669, generator_loss = 29.598933\n",
            "\n"
          ]
        },
        {
          "output_type": "stream",
          "name": "stderr",
          "text": [
            "WARNING:tensorflow:Compiled the loaded model, but the compiled metrics have yet to be built. `model.compile_metrics` will be empty until you train or evaluate the model.\n"
          ]
        },
        {
          "output_type": "stream",
          "name": "stdout",
          "text": [
            "epoch -> [141/1500], discriminator_loss_for_real_data = 0.000449, discriminator_loss_for_fake_data = 0.000574, generator_loss = 29.691789\n",
            "\n"
          ]
        },
        {
          "output_type": "stream",
          "name": "stderr",
          "text": [
            "WARNING:tensorflow:Compiled the loaded model, but the compiled metrics have yet to be built. `model.compile_metrics` will be empty until you train or evaluate the model.\n"
          ]
        },
        {
          "output_type": "stream",
          "name": "stdout",
          "text": [
            "epoch -> [142/1500], discriminator_loss_for_real_data = 0.054715, discriminator_loss_for_fake_data = 0.115301, generator_loss = 29.219410\n",
            "\n"
          ]
        },
        {
          "output_type": "stream",
          "name": "stderr",
          "text": [
            "WARNING:tensorflow:Compiled the loaded model, but the compiled metrics have yet to be built. `model.compile_metrics` will be empty until you train or evaluate the model.\n"
          ]
        },
        {
          "output_type": "stream",
          "name": "stdout",
          "text": [
            "epoch -> [143/1500], discriminator_loss_for_real_data = 0.005822, discriminator_loss_for_fake_data = 0.008572, generator_loss = 29.207283\n",
            "\n"
          ]
        },
        {
          "output_type": "stream",
          "name": "stderr",
          "text": [
            "WARNING:tensorflow:Compiled the loaded model, but the compiled metrics have yet to be built. `model.compile_metrics` will be empty until you train or evaluate the model.\n"
          ]
        },
        {
          "output_type": "stream",
          "name": "stdout",
          "text": [
            "epoch -> [144/1500], discriminator_loss_for_real_data = 0.003595, discriminator_loss_for_fake_data = 0.005331, generator_loss = 29.330034\n",
            "\n"
          ]
        },
        {
          "output_type": "stream",
          "name": "stderr",
          "text": [
            "WARNING:tensorflow:Compiled the loaded model, but the compiled metrics have yet to be built. `model.compile_metrics` will be empty until you train or evaluate the model.\n"
          ]
        },
        {
          "output_type": "stream",
          "name": "stdout",
          "text": [
            "epoch -> [145/1500], discriminator_loss_for_real_data = 0.002655, discriminator_loss_for_fake_data = 0.003853, generator_loss = 29.248778\n",
            "\n"
          ]
        },
        {
          "output_type": "stream",
          "name": "stderr",
          "text": [
            "WARNING:tensorflow:Compiled the loaded model, but the compiled metrics have yet to be built. `model.compile_metrics` will be empty until you train or evaluate the model.\n"
          ]
        },
        {
          "output_type": "stream",
          "name": "stdout",
          "text": [
            "epoch -> [146/1500], discriminator_loss_for_real_data = 0.001910, discriminator_loss_for_fake_data = 0.002863, generator_loss = 29.400089\n",
            "\n"
          ]
        },
        {
          "output_type": "stream",
          "name": "stderr",
          "text": [
            "WARNING:tensorflow:Compiled the loaded model, but the compiled metrics have yet to be built. `model.compile_metrics` will be empty until you train or evaluate the model.\n"
          ]
        },
        {
          "output_type": "stream",
          "name": "stdout",
          "text": [
            "epoch -> [147/1500], discriminator_loss_for_real_data = 0.001334, discriminator_loss_for_fake_data = 0.002041, generator_loss = 29.482731\n",
            "\n"
          ]
        },
        {
          "output_type": "stream",
          "name": "stderr",
          "text": [
            "WARNING:tensorflow:Compiled the loaded model, but the compiled metrics have yet to be built. `model.compile_metrics` will be empty until you train or evaluate the model.\n"
          ]
        }
      ],
      "id": "6347270c"
    },
    {
      "cell_type": "code",
      "source": [],
      "metadata": {
        "id": "00b1821b"
      },
      "execution_count": null,
      "outputs": [],
      "id": "00b1821b"
    },
    {
      "cell_type": "markdown",
      "source": [
        "# Misc."
      ],
      "metadata": {
        "id": "4cbde780"
      },
      "id": "4cbde780"
    }
  ]
}